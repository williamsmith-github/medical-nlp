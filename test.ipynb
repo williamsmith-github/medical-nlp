{
 "cells": [
  {
   "cell_type": "code",
   "execution_count": null,
   "metadata": {},
   "outputs": [],
   "source": [
    "import pandas as pd\n",
    "\n",
    "path = './data/2023.xls'"
   ]
  },
  {
   "cell_type": "code",
   "execution_count": 11,
   "metadata": {},
   "outputs": [
    {
     "name": "stdout",
     "output_type": "stream",
     "text": [
      "279\n"
     ]
    },
    {
     "ename": "KeyboardInterrupt",
     "evalue": "",
     "output_type": "error",
     "traceback": [
      "\u001b[0;31m---------------------------------------------------------------------------\u001b[0m",
      "\u001b[0;31mKeyboardInterrupt\u001b[0m                         Traceback (most recent call last)",
      "\u001b[1;32m/home/alba/nlp/test.ipynb Cell 2\u001b[0m line \u001b[0;36m2\n\u001b[1;32m      <a href='vscode-notebook-cell:/home/alba/nlp/test.ipynb#W1sZmlsZQ%3D%3D?line=0'>1</a>\u001b[0m \u001b[39mfor\u001b[39;00m sheet \u001b[39min\u001b[39;00m [\u001b[39m'\u001b[39m\u001b[39m1月\u001b[39m\u001b[39m'\u001b[39m, \u001b[39m'\u001b[39m\u001b[39m2月\u001b[39m\u001b[39m'\u001b[39m, \u001b[39m'\u001b[39m\u001b[39m3月\u001b[39m\u001b[39m'\u001b[39m, \u001b[39m'\u001b[39m\u001b[39m4月\u001b[39m\u001b[39m'\u001b[39m, \u001b[39m'\u001b[39m\u001b[39m5\u001b[39m\u001b[39m'\u001b[39m, \u001b[39m'\u001b[39m\u001b[39m6\u001b[39m\u001b[39m'\u001b[39m]:\n\u001b[0;32m----> <a href='vscode-notebook-cell:/home/alba/nlp/test.ipynb#W1sZmlsZQ%3D%3D?line=1'>2</a>\u001b[0m     df \u001b[39m=\u001b[39m pd\u001b[39m.\u001b[39;49mread_excel(path, sheet_name\u001b[39m=\u001b[39;49m\u001b[39m'\u001b[39;49m\u001b[39m{}\u001b[39;49;00m\u001b[39m'\u001b[39;49m\u001b[39m.\u001b[39;49mformat(sheet))\n\u001b[1;32m      <a href='vscode-notebook-cell:/home/alba/nlp/test.ipynb#W1sZmlsZQ%3D%3D?line=2'>3</a>\u001b[0m     \u001b[39mprint\u001b[39m(\u001b[39mlen\u001b[39m(df\u001b[39m.\u001b[39mindex))\n",
      "File \u001b[0;32m~/anaconda3/envs/nlp/lib/python3.11/site-packages/pandas/io/excel/_base.py:504\u001b[0m, in \u001b[0;36mread_excel\u001b[0;34m(io, sheet_name, header, names, index_col, usecols, dtype, engine, converters, true_values, false_values, skiprows, nrows, na_values, keep_default_na, na_filter, verbose, parse_dates, date_parser, date_format, thousands, decimal, comment, skipfooter, storage_options, dtype_backend, engine_kwargs)\u001b[0m\n\u001b[1;32m    502\u001b[0m \u001b[39mif\u001b[39;00m \u001b[39mnot\u001b[39;00m \u001b[39misinstance\u001b[39m(io, ExcelFile):\n\u001b[1;32m    503\u001b[0m     should_close \u001b[39m=\u001b[39m \u001b[39mTrue\u001b[39;00m\n\u001b[0;32m--> 504\u001b[0m     io \u001b[39m=\u001b[39m ExcelFile(\n\u001b[1;32m    505\u001b[0m         io,\n\u001b[1;32m    506\u001b[0m         storage_options\u001b[39m=\u001b[39;49mstorage_options,\n\u001b[1;32m    507\u001b[0m         engine\u001b[39m=\u001b[39;49mengine,\n\u001b[1;32m    508\u001b[0m         engine_kwargs\u001b[39m=\u001b[39;49mengine_kwargs,\n\u001b[1;32m    509\u001b[0m     )\n\u001b[1;32m    510\u001b[0m \u001b[39melif\u001b[39;00m engine \u001b[39mand\u001b[39;00m engine \u001b[39m!=\u001b[39m io\u001b[39m.\u001b[39mengine:\n\u001b[1;32m    511\u001b[0m     \u001b[39mraise\u001b[39;00m \u001b[39mValueError\u001b[39;00m(\n\u001b[1;32m    512\u001b[0m         \u001b[39m\"\u001b[39m\u001b[39mEngine should not be specified when passing \u001b[39m\u001b[39m\"\u001b[39m\n\u001b[1;32m    513\u001b[0m         \u001b[39m\"\u001b[39m\u001b[39man ExcelFile - ExcelFile already has the engine set\u001b[39m\u001b[39m\"\u001b[39m\n\u001b[1;32m    514\u001b[0m     )\n",
      "File \u001b[0;32m~/anaconda3/envs/nlp/lib/python3.11/site-packages/pandas/io/excel/_base.py:1580\u001b[0m, in \u001b[0;36mExcelFile.__init__\u001b[0;34m(self, path_or_buffer, engine, storage_options, engine_kwargs)\u001b[0m\n\u001b[1;32m   1577\u001b[0m \u001b[39mself\u001b[39m\u001b[39m.\u001b[39mengine \u001b[39m=\u001b[39m engine\n\u001b[1;32m   1578\u001b[0m \u001b[39mself\u001b[39m\u001b[39m.\u001b[39mstorage_options \u001b[39m=\u001b[39m storage_options\n\u001b[0;32m-> 1580\u001b[0m \u001b[39mself\u001b[39m\u001b[39m.\u001b[39m_reader \u001b[39m=\u001b[39m \u001b[39mself\u001b[39;49m\u001b[39m.\u001b[39;49m_engines[engine](\n\u001b[1;32m   1581\u001b[0m     \u001b[39mself\u001b[39;49m\u001b[39m.\u001b[39;49m_io,\n\u001b[1;32m   1582\u001b[0m     storage_options\u001b[39m=\u001b[39;49mstorage_options,\n\u001b[1;32m   1583\u001b[0m     engine_kwargs\u001b[39m=\u001b[39;49mengine_kwargs,\n\u001b[1;32m   1584\u001b[0m )\n",
      "File \u001b[0;32m~/anaconda3/envs/nlp/lib/python3.11/site-packages/pandas/io/excel/_xlrd.py:45\u001b[0m, in \u001b[0;36mXlrdReader.__init__\u001b[0;34m(self, filepath_or_buffer, storage_options, engine_kwargs)\u001b[0m\n\u001b[1;32m     43\u001b[0m err_msg \u001b[39m=\u001b[39m \u001b[39m\"\u001b[39m\u001b[39mInstall xlrd >= 2.0.1 for xls Excel support\u001b[39m\u001b[39m\"\u001b[39m\n\u001b[1;32m     44\u001b[0m import_optional_dependency(\u001b[39m\"\u001b[39m\u001b[39mxlrd\u001b[39m\u001b[39m\"\u001b[39m, extra\u001b[39m=\u001b[39merr_msg)\n\u001b[0;32m---> 45\u001b[0m \u001b[39msuper\u001b[39;49m()\u001b[39m.\u001b[39;49m\u001b[39m__init__\u001b[39;49m(\n\u001b[1;32m     46\u001b[0m     filepath_or_buffer,\n\u001b[1;32m     47\u001b[0m     storage_options\u001b[39m=\u001b[39;49mstorage_options,\n\u001b[1;32m     48\u001b[0m     engine_kwargs\u001b[39m=\u001b[39;49mengine_kwargs,\n\u001b[1;32m     49\u001b[0m )\n",
      "File \u001b[0;32m~/anaconda3/envs/nlp/lib/python3.11/site-packages/pandas/io/excel/_base.py:582\u001b[0m, in \u001b[0;36mBaseExcelReader.__init__\u001b[0;34m(self, filepath_or_buffer, storage_options, engine_kwargs)\u001b[0m\n\u001b[1;32m    580\u001b[0m \u001b[39mself\u001b[39m\u001b[39m.\u001b[39mhandles\u001b[39m.\u001b[39mhandle\u001b[39m.\u001b[39mseek(\u001b[39m0\u001b[39m)\n\u001b[1;32m    581\u001b[0m \u001b[39mtry\u001b[39;00m:\n\u001b[0;32m--> 582\u001b[0m     \u001b[39mself\u001b[39m\u001b[39m.\u001b[39mbook \u001b[39m=\u001b[39m \u001b[39mself\u001b[39;49m\u001b[39m.\u001b[39;49mload_workbook(\u001b[39mself\u001b[39;49m\u001b[39m.\u001b[39;49mhandles\u001b[39m.\u001b[39;49mhandle, engine_kwargs)\n\u001b[1;32m    583\u001b[0m \u001b[39mexcept\u001b[39;00m \u001b[39mException\u001b[39;00m:\n\u001b[1;32m    584\u001b[0m     \u001b[39mself\u001b[39m\u001b[39m.\u001b[39mclose()\n",
      "File \u001b[0;32m~/anaconda3/envs/nlp/lib/python3.11/site-packages/pandas/io/excel/_xlrd.py:62\u001b[0m, in \u001b[0;36mXlrdReader.load_workbook\u001b[0;34m(self, filepath_or_buffer, engine_kwargs)\u001b[0m\n\u001b[1;32m     60\u001b[0m \u001b[39mif\u001b[39;00m \u001b[39mhasattr\u001b[39m(filepath_or_buffer, \u001b[39m\"\u001b[39m\u001b[39mread\u001b[39m\u001b[39m\"\u001b[39m):\n\u001b[1;32m     61\u001b[0m     data \u001b[39m=\u001b[39m filepath_or_buffer\u001b[39m.\u001b[39mread()\n\u001b[0;32m---> 62\u001b[0m     \u001b[39mreturn\u001b[39;00m open_workbook(file_contents\u001b[39m=\u001b[39;49mdata, \u001b[39m*\u001b[39;49m\u001b[39m*\u001b[39;49mengine_kwargs)\n\u001b[1;32m     63\u001b[0m \u001b[39melse\u001b[39;00m:\n\u001b[1;32m     64\u001b[0m     \u001b[39mreturn\u001b[39;00m open_workbook(filepath_or_buffer, \u001b[39m*\u001b[39m\u001b[39m*\u001b[39mengine_kwargs)\n",
      "File \u001b[0;32m~/anaconda3/envs/nlp/lib/python3.11/site-packages/xlrd/__init__.py:172\u001b[0m, in \u001b[0;36mopen_workbook\u001b[0;34m(filename, logfile, verbosity, use_mmap, file_contents, encoding_override, formatting_info, on_demand, ragged_rows, ignore_workbook_corruption)\u001b[0m\n\u001b[1;32m    169\u001b[0m \u001b[39mif\u001b[39;00m file_format \u001b[39mand\u001b[39;00m file_format \u001b[39m!=\u001b[39m \u001b[39m'\u001b[39m\u001b[39mxls\u001b[39m\u001b[39m'\u001b[39m:\n\u001b[1;32m    170\u001b[0m     \u001b[39mraise\u001b[39;00m XLRDError(FILE_FORMAT_DESCRIPTIONS[file_format]\u001b[39m+\u001b[39m\u001b[39m'\u001b[39m\u001b[39m; not supported\u001b[39m\u001b[39m'\u001b[39m)\n\u001b[0;32m--> 172\u001b[0m bk \u001b[39m=\u001b[39m open_workbook_xls(\n\u001b[1;32m    173\u001b[0m     filename\u001b[39m=\u001b[39;49mfilename,\n\u001b[1;32m    174\u001b[0m     logfile\u001b[39m=\u001b[39;49mlogfile,\n\u001b[1;32m    175\u001b[0m     verbosity\u001b[39m=\u001b[39;49mverbosity,\n\u001b[1;32m    176\u001b[0m     use_mmap\u001b[39m=\u001b[39;49muse_mmap,\n\u001b[1;32m    177\u001b[0m     file_contents\u001b[39m=\u001b[39;49mfile_contents,\n\u001b[1;32m    178\u001b[0m     encoding_override\u001b[39m=\u001b[39;49mencoding_override,\n\u001b[1;32m    179\u001b[0m     formatting_info\u001b[39m=\u001b[39;49mformatting_info,\n\u001b[1;32m    180\u001b[0m     on_demand\u001b[39m=\u001b[39;49mon_demand,\n\u001b[1;32m    181\u001b[0m     ragged_rows\u001b[39m=\u001b[39;49mragged_rows,\n\u001b[1;32m    182\u001b[0m     ignore_workbook_corruption\u001b[39m=\u001b[39;49mignore_workbook_corruption,\n\u001b[1;32m    183\u001b[0m )\n\u001b[1;32m    185\u001b[0m \u001b[39mreturn\u001b[39;00m bk\n",
      "File \u001b[0;32m~/anaconda3/envs/nlp/lib/python3.11/site-packages/xlrd/book.py:107\u001b[0m, in \u001b[0;36mopen_workbook_xls\u001b[0;34m(filename, logfile, verbosity, use_mmap, file_contents, encoding_override, formatting_info, on_demand, ragged_rows, ignore_workbook_corruption)\u001b[0m\n\u001b[1;32m    105\u001b[0m     bk\u001b[39m.\u001b[39m_sheet_list \u001b[39m=\u001b[39m [\u001b[39mNone\u001b[39;00m \u001b[39mfor\u001b[39;00m sh \u001b[39min\u001b[39;00m bk\u001b[39m.\u001b[39m_sheet_names]\n\u001b[1;32m    106\u001b[0m     \u001b[39mif\u001b[39;00m \u001b[39mnot\u001b[39;00m on_demand:\n\u001b[0;32m--> 107\u001b[0m         bk\u001b[39m.\u001b[39;49mget_sheets()\n\u001b[1;32m    108\u001b[0m bk\u001b[39m.\u001b[39mnsheets \u001b[39m=\u001b[39m \u001b[39mlen\u001b[39m(bk\u001b[39m.\u001b[39m_sheet_list)\n\u001b[1;32m    109\u001b[0m \u001b[39mif\u001b[39;00m biff_version \u001b[39m==\u001b[39m \u001b[39m45\u001b[39m \u001b[39mand\u001b[39;00m bk\u001b[39m.\u001b[39mnsheets \u001b[39m>\u001b[39m \u001b[39m1\u001b[39m:\n",
      "File \u001b[0;32m~/anaconda3/envs/nlp/lib/python3.11/site-packages/xlrd/book.py:722\u001b[0m, in \u001b[0;36mBook.get_sheets\u001b[0;34m(self)\u001b[0m\n\u001b[1;32m    720\u001b[0m \u001b[39mfor\u001b[39;00m sheetno \u001b[39min\u001b[39;00m xrange(\u001b[39mlen\u001b[39m(\u001b[39mself\u001b[39m\u001b[39m.\u001b[39m_sheet_names)):\n\u001b[1;32m    721\u001b[0m     \u001b[39mif\u001b[39;00m DEBUG: \u001b[39mprint\u001b[39m(\u001b[39m\"\u001b[39m\u001b[39mGET_SHEETS: sheetno =\u001b[39m\u001b[39m\"\u001b[39m, sheetno, \u001b[39mself\u001b[39m\u001b[39m.\u001b[39m_sheet_names, \u001b[39mself\u001b[39m\u001b[39m.\u001b[39m_sh_abs_posn, file\u001b[39m=\u001b[39m\u001b[39mself\u001b[39m\u001b[39m.\u001b[39mlogfile)\n\u001b[0;32m--> 722\u001b[0m     \u001b[39mself\u001b[39;49m\u001b[39m.\u001b[39;49mget_sheet(sheetno)\n",
      "File \u001b[0;32m~/anaconda3/envs/nlp/lib/python3.11/site-packages/xlrd/book.py:713\u001b[0m, in \u001b[0;36mBook.get_sheet\u001b[0;34m(self, sh_number, update_pos)\u001b[0m\n\u001b[1;32m    702\u001b[0m \u001b[39m# assert biff_version == self.biff_version ### FAILS\u001b[39;00m\n\u001b[1;32m    703\u001b[0m \u001b[39m# Have an example where book is v7 but sheet reports v8!!!\u001b[39;00m\n\u001b[1;32m    704\u001b[0m \u001b[39m# It appears to work OK if the sheet version is ignored.\u001b[39;00m\n\u001b[1;32m    705\u001b[0m \u001b[39m# Confirmed by Daniel Rentz: happens when Excel does \"save as\"\u001b[39;00m\n\u001b[1;32m    706\u001b[0m \u001b[39m# creating an old version file; ignore version details on sheet BOF.\u001b[39;00m\n\u001b[1;32m    707\u001b[0m sh \u001b[39m=\u001b[39m sheet\u001b[39m.\u001b[39mSheet(\n\u001b[1;32m    708\u001b[0m     \u001b[39mself\u001b[39m,\n\u001b[1;32m    709\u001b[0m     \u001b[39mself\u001b[39m\u001b[39m.\u001b[39m_position,\n\u001b[1;32m    710\u001b[0m     \u001b[39mself\u001b[39m\u001b[39m.\u001b[39m_sheet_names[sh_number],\n\u001b[1;32m    711\u001b[0m     sh_number,\n\u001b[1;32m    712\u001b[0m )\n\u001b[0;32m--> 713\u001b[0m sh\u001b[39m.\u001b[39;49mread(\u001b[39mself\u001b[39;49m)\n\u001b[1;32m    714\u001b[0m \u001b[39mself\u001b[39m\u001b[39m.\u001b[39m_sheet_list[sh_number] \u001b[39m=\u001b[39m sh\n\u001b[1;32m    715\u001b[0m \u001b[39mreturn\u001b[39;00m sh\n",
      "File \u001b[0;32m~/anaconda3/envs/nlp/lib/python3.11/site-packages/xlrd/sheet.py:828\u001b[0m, in \u001b[0;36mSheet.read\u001b[0;34m(self, bk)\u001b[0m\n\u001b[1;32m    826\u001b[0m     self_put_cell(rowx, colx, \u001b[39mNone\u001b[39;00m, d, xf_index)\n\u001b[1;32m    827\u001b[0m \u001b[39melif\u001b[39;00m rc \u001b[39m==\u001b[39m XL_LABELSST:\n\u001b[0;32m--> 828\u001b[0m     rowx, colx, xf_index, sstindex \u001b[39m=\u001b[39m local_unpack(\u001b[39m'\u001b[39m\u001b[39m<HHHi\u001b[39m\u001b[39m'\u001b[39m, data)\n\u001b[1;32m    829\u001b[0m     \u001b[39m# print \"LABELSST\", rowx, colx, sstindex, bk._sharedstrings[sstindex]\u001b[39;00m\n\u001b[1;32m    830\u001b[0m     self_put_cell(rowx, colx, XL_CELL_TEXT, bk\u001b[39m.\u001b[39m_sharedstrings[sstindex], xf_index)\n",
      "\u001b[0;31mKeyboardInterrupt\u001b[0m: "
     ]
    }
   ],
   "source": [
    "for sheet in ['1月', '2月', '3月', '4月', '5', '6']:\n",
    "    df = pd.read_excel(path, sheet_name='{}'.format(sheet))\n",
    "    print(len(df.index))"
   ]
  },
  {
   "cell_type": "code",
   "execution_count": null,
   "metadata": {},
   "outputs": [],
   "source": [
    "import pandas as pd\n",
    "\n",
    "path = './data/2023.xls'\n",
    "\n",
    "df = pd.read_excel(path, sheet_name='1月')\n",
    "col = list(df.columns)\n",
    "for i in range(len(col)):\n",
    "    print(df['使用过程'][i])"
   ]
  },
  {
   "cell_type": "code",
   "execution_count": null,
   "metadata": {},
   "outputs": [],
   "source": [
    "for item in col:\n",
    "    print('{}:{} type:{}'.format(item, df[item][0],type(df[item][0])))"
   ]
  },
  {
   "cell_type": "code",
   "execution_count": null,
   "metadata": {},
   "outputs": [],
   "source": [
    "for c in col:\n",
    "    print('{}:{}\\n'.format(c, df[c][0]))"
   ]
  },
  {
   "cell_type": "code",
   "execution_count": null,
   "metadata": {},
   "outputs": [],
   "source": [
    "lists = ['伤害表现','器械故障表现', '预期治疗疾病或作用', '使用过程', '事件原因分析', '事件原因分析描述', '初步处置情况', ]\n",
    "\n",
    "for name in lists:\n",
    "    print(df[name][0])"
   ]
  },
  {
   "cell_type": "code",
   "execution_count": null,
   "metadata": {},
   "outputs": [],
   "source": [
    "df.index"
   ]
  },
  {
   "cell_type": "code",
   "execution_count": null,
   "metadata": {},
   "outputs": [],
   "source": [
    "df.loc[0]"
   ]
  },
  {
   "cell_type": "code",
   "execution_count": null,
   "metadata": {},
   "outputs": [],
   "source": [
    "from datasets import load_dataset\n",
    "\n",
    "data_file = {\"content\":'./data/LCSTS/test.src.txt',\n",
    "             \"summary\":'./data/LCSTS/test.tgt.txt',\n",
    "             }\n",
    "\n",
    "test_dataset = load_dataset(\"text\", data_files=data_file)"
   ]
  },
  {
   "cell_type": "code",
   "execution_count": null,
   "metadata": {},
   "outputs": [],
   "source": [
    "dataset = load_dataset(\"text\", data_files={\"train\": \"./data/LCSTS/train.src.txt\", \n",
    "                                           \"test\": \"./data/LCSTS/test.src.txt\",\n",
    "                                           \"valid\": \"./data/LCSTS/valid.src.txt\",\n",
    "                                           })"
   ]
  },
  {
   "cell_type": "code",
   "execution_count": null,
   "metadata": {},
   "outputs": [],
   "source": [
    "dataset"
   ]
  },
  {
   "cell_type": "code",
   "execution_count": null,
   "metadata": {},
   "outputs": [],
   "source": [
    "dataset['valid'][1106]"
   ]
  },
  {
   "cell_type": "code",
   "execution_count": null,
   "metadata": {},
   "outputs": [],
   "source": [
    "dataset['train'][2]"
   ]
  },
  {
   "cell_type": "code",
   "execution_count": null,
   "metadata": {},
   "outputs": [],
   "source": [
    "for data in test_dataset:\n",
    "    print(data)"
   ]
  },
  {
   "cell_type": "code",
   "execution_count": null,
   "metadata": {},
   "outputs": [],
   "source": [
    "from transformers import pipeline"
   ]
  },
  {
   "cell_type": "code",
   "execution_count": null,
   "metadata": {},
   "outputs": [],
   "source": [
    "summarizer = pipeline(\"summarization\", model='')\n",
    "results = summarizer('1月18日，习近平总书记对政法工作作出重要指示：2014年，政法战线各项工作特别是改革工作取得新成效。新形势下，希望全国政法机关主动适应新形势，为公正司法和提高执法司法公信力提供有力制度保障。')"
   ]
  },
  {
   "cell_type": "code",
   "execution_count": null,
   "metadata": {},
   "outputs": [],
   "source": [
    "import re\n",
    "from transformers import AutoTokenizer, AutoModelForSeq2SeqLM\n",
    "\n",
    "WHITESPACE_HANDLER = lambda k: re.sub('\\s+', ' ', re.sub('\\n+', ' ', k.strip()))\n",
    "\n",
    "article_text = \"\"\"Videos that say approved vaccines are dangerous and cause autism, cancer or infertility are among those that will be taken down, the company said.  The policy includes the termination of accounts of anti-vaccine influencers.  Tech giants have been criticised for not doing more to counter false health information on their sites.  In July, US President Joe Biden said social media platforms were largely responsible for people's scepticism in getting vaccinated by spreading misinformation, and appealed for them to address the issue.  YouTube, which is owned by Google, said 130,000 videos were removed from its platform since last year, when it implemented a ban on content spreading misinformation about Covid vaccines.  In a blog post, the company said it had seen false claims about Covid jabs \"spill over into misinformation about vaccines in general\". The new policy covers long-approved vaccines, such as those against measles or hepatitis B.  \"We're expanding our medical misinformation policies on YouTube with new guidelines on currently administered vaccines that are approved and confirmed to be safe and effective by local health authorities and the WHO,\" the post said, referring to the World Health Organization.\"\"\"\n",
    "\n",
    "model_name = \"csebuetnlp/mT5_multilingual_XLSum\"\n",
    "tokenizer = AutoTokenizer.from_pretrained(model_name)\n",
    "model = AutoModelForSeq2SeqLM.from_pretrained(model_name)\n",
    "\n",
    "input_ids = tokenizer(\n",
    "    [WHITESPACE_HANDLER(article_text)],\n",
    "    return_tensors=\"pt\",\n",
    "    padding=\"max_length\",\n",
    "    truncation=True,\n",
    "    max_length=512\n",
    ")[\"input_ids\"]\n",
    "\n",
    "output_ids = model.generate(\n",
    "    input_ids=input_ids,\n",
    "    max_length=84,\n",
    "    no_repeat_ngram_size=2,\n",
    "    num_beams=4\n",
    ")[0]\n",
    "\n",
    "summary = tokenizer.decode(\n",
    "    output_ids,\n",
    "    skip_special_tokens=True,\n",
    "    clean_up_tokenization_spaces=False\n",
    ")\n",
    "\n",
    "print(summary)\n"
   ]
  },
  {
   "cell_type": "code",
   "execution_count": null,
   "metadata": {},
   "outputs": [],
   "source": [
    "# Load model directly\n",
    "import os\n",
    "from transformers import AutoTokenizer, AutoModelForSeq2SeqLM\n",
    "\n",
    "os.environ['TRANSFORMERS_OFFLINE'] = '1'\n",
    "\n",
    "source_model = \"./hub/mt5-small-finetuned-on-mT5-lcsts\"\n",
    "\n",
    "# tokenizer = AutoTokenizer.from_pretrained(\"./hub/bert-base-chinese\", cache_dir = './hub/bert-base-chinese')\n",
    "# model = AutoModelForMaskedLM.from_pretrained(\"./hub/bert-base-chinese\", cache_dir = '.hub/bert-base-chinese')\n",
    "tokenizer = AutoTokenizer.from_pretrained(\"./hub/mt5-small-finetuned-on-mT5-lcsts\", cache_dir = './hub/mt5-small-finetuned-on-mT5-lcsts')\n",
    "model = AutoModelForSeq2SeqLM.from_pretrained(\"./hub/mt5-small-finetuned-on-mT5-lcsts\", cache_dir = '.hub/mt5-small-finetuned-on-mT5-lcsts')"
   ]
  },
  {
   "cell_type": "code",
   "execution_count": null,
   "metadata": {},
   "outputs": [],
   "source": [
    "text = \"1月18日，习近平总书记对政法工作作出重要指示：2014年，政法战线各项工作特别是改革工作取得新成效。新形势下，希望全国政法机关主动适应新形势，为公正司法和提高执法司法公信力提供有力制度保障。\"\n",
    "seg_words = tokenizer.tokenize(text)\n",
    "print(seg_words)\n",
    "# seg_word_id = tokenizer.convert_tokens_to_ids(seg_words)\n"
   ]
  },
  {
   "cell_type": "code",
   "execution_count": null,
   "metadata": {},
   "outputs": [],
   "source": [
    "seg_word_id = tokenizer.convert_tokens_to_ids(seg_words)\n",
    "print(seg_word_id)"
   ]
  },
  {
   "cell_type": "code",
   "execution_count": null,
   "metadata": {},
   "outputs": [],
   "source": [
    "encode_text = tokenizer.encode(text, return_tensors='pt')\n",
    "print(encode_text)"
   ]
  },
  {
   "cell_type": "code",
   "execution_count": 2,
   "metadata": {},
   "outputs": [],
   "source": [
    "import pandas as pd\n",
    "\n",
    "path = './data/2023.xls'\n",
    "\n",
    "df = pd.read_excel(path, sheet_name='1月')\n",
    "col = list(df.columns)\n",
    "\n",
    "events = []\n",
    "for i in range(len(col)):\n",
    "    events.append(df['使用过程'][i])\n",
    "    # print(df['使用过程'][i])"
   ]
  },
  {
   "cell_type": "code",
   "execution_count": null,
   "metadata": {},
   "outputs": [],
   "source": [
    "# Load model directly\n",
    "import os\n",
    "from transformers import AutoTokenizer, AutoModelForSeq2SeqLM\n",
    "\n",
    "os.environ['TRANSFORMERS_OFFLINE'] = '1'\n",
    "\n",
    "source_model = \"./hub/mt5-small-finetuned-on-mT5-lcsts\"\n",
    "\n",
    "# tokenizer = AutoTokenizer.from_pretrained(\"./hub/bert-base-chinese\", cache_dir = './hub/bert-base-chinese')\n",
    "# model = AutoModelForMaskedLM.from_pretrained(\"./hub/bert-base-chinese\", cache_dir = '.hub/bert-base-chinese')\n",
    "tokenizer = AutoTokenizer.from_pretrained(\"./hub/mt5-small-finetuned-on-mT5-lcsts\", cache_dir = './hub/mt5-small-finetuned-on-mT5-lcsts')\n",
    "model = AutoModelForSeq2SeqLM.from_pretrained(\"./hub/mt5-small-finetuned-on-mT5-lcsts\", cache_dir = '.hub/mt5-small-finetuned-on-mT5-lcsts')"
   ]
  },
  {
   "cell_type": "code",
   "execution_count": null,
   "metadata": {},
   "outputs": [],
   "source": [
    "# text = \"1月18日，习近平总书记对政法工作作出重要指示：2014年，政法战线各项工作特别是改革工作取得新成效。新形势下，希望全国政法机关主动适应新形势，为公正司法和提高执法司法公信力提供有力制度保障。\"\n",
    "for text in events:\n",
    "    if len(text) <= 25:\n",
    "        continue\n",
    "    print('input:{}'.format(text))\n",
    "    input_ids = tokenizer.encode(text, return_tensors='pt')\n",
    "    summary_ids = model.generate(input_ids,\n",
    "                                min_length=5,\n",
    "                                max_length=50,\n",
    "                                num_beams=10,\n",
    "                                repetition_penalty=2.5,\n",
    "                                length_penalty=1.0,\n",
    "                                early_stopping=True,\n",
    "                                no_repeat_ngram_size=2,\n",
    "                                use_cache=True,\n",
    "                                do_sample = True,\n",
    "                                temperature = 0.8,\n",
    "                                top_k = 50,\n",
    "                                top_p = 0.95)\n",
    "    \n",
    "    summary_text = tokenizer.decode(summary_ids[0], skip_special_tokens=True)\n",
    "    print('output:{}\\n'.format(summary_text))"
   ]
  },
  {
   "cell_type": "code",
   "execution_count": 14,
   "metadata": {},
   "outputs": [],
   "source": [
    "from transformers import pipeline\n",
    "\n",
    "# model_path = './epoch30-mt5-finetuned-lscts-1201/'\n",
    "model_path = './hub/mt5-small-finetuned-on-mT5-lcsts/'\n",
    "# text = '接诊医生为患者测量空腹血糖，血糖条无法自动吸血，导致无法测量，更换新的血糖条后，顺利为患者测量了空腹血糖。'\n",
    "summarizer = pipeline(\"summarization\", model=model_path)\n",
    "# print(summarizer(text, max_length=30, min_length=10, do_sample=False))"
   ]
  },
  {
   "cell_type": "code",
   "execution_count": 15,
   "metadata": {},
   "outputs": [
    {
     "name": "stdout",
     "output_type": "stream",
     "text": [
      "Text:   患者因剖宫产遵医嘱行会阴消毒，2022-12-29日14:00分责任护士打开一次性使用会阴护理包时，发现包内中单与包装粘连，无法取下，重新更换单包装中单后完成操作，未对患者造成不良后果。\n"
     ]
    },
    {
     "name": "stderr",
     "output_type": "stream",
     "text": [
      "Your max_length is set to 60, but your input_length is only 48. Since this is a summarization task, where outputs shorter than the input are typically wanted, you might consider decreasing max_length manually, e.g. summarizer('...', max_length=24)\n"
     ]
    },
    {
     "name": "stdout",
     "output_type": "stream",
     "text": [
      "Result: 会阴护理包被曝粘连包装未造成不良后果\n",
      "\n",
      "Text:   2023年1月10日牙周科护士进行器械处理前，佩戴手套时发现手指指尖处有破损，负责护士和医生联系医疗器械不良反应报告人员，重新更换手套\n",
      "Result: 牙周科护士佩戴手套时发现手指指尖处破损\n",
      "\n",
      "Text:   患者因肾功能不全入ICU行床旁血滤治疗，2023-1-10日17:00分护士准备为患者进行血滤治疗，在上机预冲时发现血液滤过管路破损漏液，无法继续使用，立即更换另套管路并重新上机预冲，此事件延误了患者的治疗时间。\n"
     ]
    },
    {
     "name": "stderr",
     "output_type": "stream",
     "text": [
      "Your max_length is set to 60, but your input_length is only 33. Since this is a summarization task, where outputs shorter than the input are typically wanted, you might consider decreasing max_length manually, e.g. summarizer('...', max_length=16)\n"
     ]
    },
    {
     "name": "stdout",
     "output_type": "stream",
     "text": [
      "Result: ICU患者血滤治疗时发现漏液\n",
      "\n",
      "Text:   护士在穿戴二级防护时，检查发现防护服拉链损坏，无法正常穿戴，立即更换，未对患者造成伤害。\n",
      "Result: 护士穿戴二级防护时拉链损坏未对患者造成伤害\n",
      "\n",
      "Text:   患者因锁骨骨折术后于2023-1-30日15：36分在手术室行内固定物取出术，洗手护士在准备手术所需用物时，发现医用脱脂纱布块外包装破损，不符合无菌要求，即予以更换，未对患者造成不良后果。\n"
     ]
    },
    {
     "name": "stderr",
     "output_type": "stream",
     "text": [
      "Your max_length is set to 60, but your input_length is only 42. Since this is a summarization task, where outputs shorter than the input are typically wanted, you might consider decreasing max_length manually, e.g. summarizer('...', max_length=21)\n"
     ]
    },
    {
     "name": "stdout",
     "output_type": "stream",
     "text": [
      "Result: 患者锁骨骨折术后发现脱脂纱布块外包装破损\n",
      "\n",
      "Text:   接诊医生为患者测量空腹血糖，血糖条无法自动吸血，导致无法测量，更换新的血糖条后，顺利为患者测量了空腹血糖。\n"
     ]
    },
    {
     "name": "stderr",
     "output_type": "stream",
     "text": [
      "Your max_length is set to 60, but your input_length is only 23. Since this is a summarization task, where outputs shorter than the input are typically wanted, you might consider decreasing max_length manually, e.g. summarizer('...', max_length=11)\n"
     ]
    },
    {
     "name": "stdout",
     "output_type": "stream",
     "text": [
      "Result: 医生为患者测量空腹血糖\n",
      "\n",
      "Text:   2023年1月30日分诊台的护士发现电子血压计在使用过程中接触不良。\n",
      "Result: 护士发现电子血压计接触不良\n",
      "\n",
      "Text:   患者因膀胱癌手术治疗，2023.1.16日护士遵医嘱为患者持续导尿，使用该产品，使用尿管前检查尿管，注入常规注水量，检查过程中出现水囊破裂，立即予以更换。未对患者造成不良影响。\n",
      "Result: 医生为患者持续导尿\n",
      "\n",
      "Text:   患者因左挠骨骨折于2023-1-30日14:36分在臂丛麻醉下行挠骨骨折切开复位内固定术，洗手护士术前准备医用脱脂纱布块时，发现纱布块与包装粘连，无法取出，即予以更换，未对患者造成不良后果。\n"
     ]
    },
    {
     "name": "stderr",
     "output_type": "stream",
     "text": [
      "Your max_length is set to 60, but your input_length is only 56. Since this is a summarization task, where outputs shorter than the input are typically wanted, you might consider decreasing max_length manually, e.g. summarizer('...', max_length=28)\n"
     ]
    },
    {
     "name": "stdout",
     "output_type": "stream",
     "text": [
      "Result: 患者左挠骨骨折切开复位内固定术\n",
      "\n",
      "Text:   患者于2023年1月16日行单根导管的冠状动脉造影术，使用指引导管Launcher LA6EBU35,打开包装后，发现中间处折弯，立即予以更换。未对患者造成不良影响。\n",
      "Result: 患者行单根导管造影术使用指引导管\n",
      "\n",
      "Text:   患者因急性肾功能衰竭住院ICU,2023.1.15日15:00医师在局麻下于患者右腹股沟处进行置管行血透治疗，使用该产品，开包后检查导管时发现导管连接处即将断裂且导丝抽不出，立即予以更换。未对患者造成不良影响。\n"
     ]
    },
    {
     "name": "stderr",
     "output_type": "stream",
     "text": [
      "Your max_length is set to 60, but your input_length is only 46. Since this is a summarization task, where outputs shorter than the input are typically wanted, you might consider decreasing max_length manually, e.g. summarizer('...', max_length=23)\n"
     ]
    },
    {
     "name": "stdout",
     "output_type": "stream",
     "text": [
      "Result: 患者急性肾功能衰竭住院ICU\n",
      "\n",
      "Text:   科室医生在给患者诊疗过程中使用橡皮障，打孔后发现橡皮障一撕就碎不能进行正常的操作。更换新的橡皮障后继续给患者进行诊疗。\n"
     ]
    },
    {
     "name": "stderr",
     "output_type": "stream",
     "text": [
      "Your max_length is set to 60, but your input_length is only 31. Since this is a summarization task, where outputs shorter than the input are typically wanted, you might consider decreasing max_length manually, e.g. summarizer('...', max_length=15)\n"
     ]
    },
    {
     "name": "stdout",
     "output_type": "stream",
     "text": [
      "Result: 医生给患者诊疗使用橡皮障打孔后发现一撕就碎不能进行正常操作\n",
      "\n",
      "Text:   该设备进行扫描过程中，系统出现蓝屏现象，重启后存在系统报错故障，影响病号进行扫描。\n"
     ]
    },
    {
     "name": "stderr",
     "output_type": "stream",
     "text": [
      "Your max_length is set to 60, but your input_length is only 47. Since this is a summarization task, where outputs shorter than the input are typically wanted, you might consider decreasing max_length manually, e.g. summarizer('...', max_length=23)\n"
     ]
    },
    {
     "name": "stdout",
     "output_type": "stream",
     "text": [
      "Result: 智能手机扫描系统出现蓝屏现象\n",
      "\n",
      "Text:   患者因胸腔积液入院，1月13日，医生给予持续胸腔闭式引流，引流过程中引流袋破损，更换新的引流袋，未对患者造成不良影响。\n"
     ]
    },
    {
     "name": "stderr",
     "output_type": "stream",
     "text": [
      "Your max_length is set to 60, but your input_length is only 30. Since this is a summarization task, where outputs shorter than the input are typically wanted, you might consider decreasing max_length manually, e.g. summarizer('...', max_length=15)\n"
     ]
    },
    {
     "name": "stdout",
     "output_type": "stream",
     "text": [
      "Result: 胸腔积液入院医生更换新引流袋未影响患者\n",
      "\n",
      "Text:   护士在使用棉签时发现棉签头无棉花无法使用，立即重新更棉签，未对患者造成不良影响\n"
     ]
    },
    {
     "name": "stderr",
     "output_type": "stream",
     "text": [
      "Your max_length is set to 60, but your input_length is only 36. Since this is a summarization task, where outputs shorter than the input are typically wanted, you might consider decreasing max_length manually, e.g. summarizer('...', max_length=18)\n"
     ]
    },
    {
     "name": "stdout",
     "output_type": "stream",
     "text": [
      "Result: 护士使用棉签后发现棉签头无棉花无法使用\n",
      "\n",
      "Text:   2023.1.13 责任护士打开透气胶布，无环形固定贴，立即更换使用。向家属及患者解释，未给患者造成伤害。\n"
     ]
    },
    {
     "name": "stderr",
     "output_type": "stream",
     "text": [
      "Your max_length is set to 60, but your input_length is only 30. Since this is a summarization task, where outputs shorter than the input are typically wanted, you might consider decreasing max_length manually, e.g. summarizer('...', max_length=15)\n"
     ]
    },
    {
     "name": "stdout",
     "output_type": "stream",
     "text": [
      "Result: 责任护士打开透气胶布无环形固定贴\n",
      "\n",
      "Text:   患者在家更换造口袋发现造口袋封边漏大便，给予重新更换造口袋，未造成不良影响。\n"
     ]
    },
    {
     "name": "stderr",
     "output_type": "stream",
     "text": [
      "Your max_length is set to 60, but your input_length is only 44. Since this is a summarization task, where outputs shorter than the input are typically wanted, you might consider decreasing max_length manually, e.g. summarizer('...', max_length=22)\n"
     ]
    },
    {
     "name": "stdout",
     "output_type": "stream",
     "text": [
      "Result: 患者在家更换造口袋发现封边漏大便\n",
      "\n",
      "Text:   1月28日，给患者修淑花进行会阴消毒，打开一次性使用无菌换药包，缺少一把镊子，立即更换换药包，未对患者造成伤害。\n"
     ]
    },
    {
     "name": "stderr",
     "output_type": "stream",
     "text": [
      "Your max_length is set to 60, but your input_length is only 47. Since this is a summarization task, where outputs shorter than the input are typically wanted, you might consider decreasing max_length manually, e.g. summarizer('...', max_length=23)\n"
     ]
    },
    {
     "name": "stdout",
     "output_type": "stream",
     "text": [
      "Result: 修淑花会阴消毒,无菌换药包\n",
      "\n",
      "Text:   1月16日，姜明芳病人进行血液透析治疗，使用血液净化装置的透析器产品，发生透析器一半血液不通，更换管路重新上机，未造成不良影响。\n"
     ]
    },
    {
     "name": "stderr",
     "output_type": "stream",
     "text": [
      "Your max_length is set to 60, but your input_length is only 56. Since this is a summarization task, where outputs shorter than the input are typically wanted, you might consider decreasing max_length manually, e.g. summarizer('...', max_length=28)\n"
     ]
    },
    {
     "name": "stdout",
     "output_type": "stream",
     "text": [
      "Result: 姜明芳病人血液透析治疗未造成不良影响\n",
      "\n",
      "Text:   该病人因心肌梗塞病入院，进行冠脉支架治疗，手术时，使用导引导管产品，发生导引导管前端有折痕事件,未产生伤害，经过更换导引导管处置措施，未产生不良效果。\n"
     ]
    },
    {
     "name": "stderr",
     "output_type": "stream",
     "text": [
      "Your max_length is set to 60, but your input_length is only 45. Since this is a summarization task, where outputs shorter than the input are typically wanted, you might consider decreasing max_length manually, e.g. summarizer('...', max_length=22)\n"
     ]
    },
    {
     "name": "stdout",
     "output_type": "stream",
     "text": [
      "Result: 武汉一患者患心肌梗塞病入院\n",
      "\n",
      "Text:   2023.1.25日晨6:38左右护士赵晏露为患者采集血标本时，有一采血管无负压，护士立即更换采血管为患者留取血标本，未造成其他伤害。\n"
     ]
    },
    {
     "name": "stderr",
     "output_type": "stream",
     "text": [
      "Your max_length is set to 60, but your input_length is only 30. Since this is a summarization task, where outputs shorter than the input are typically wanted, you might consider decreasing max_length manually, e.g. summarizer('...', max_length=15)\n"
     ]
    },
    {
     "name": "stdout",
     "output_type": "stream",
     "text": [
      "Result: 护士采集血标本未造成其他伤害\n",
      "\n",
      "Text:   7时10分，护理人员上班时佩戴口罩，打开包装发现口罩带不完整，护士及时更换，未造成伤害。\n",
      "Result: 护士上班时佩戴口罩后发现口罩带不完整护士及时更换\n",
      "\n",
      "Text:   使用时不开机\n",
      "Result:使用时不开机\n",
      "\n",
      "Text:   患者王炳海因心率过快于2023年1月4日来我院急诊科就诊，护士将液体用输液泵给患者泵入，在治疗使用过程中，出现输液泵报警，立即换下，使用另一台输液泵，并通知维修人员及时维修，未给患者造成不良后果。\n",
      "Result: 患者心率过快入院后被患者换下输液泵\n",
      "\n",
      "Text:   患者李田相因双相情感障碍于2022年12月7日收入我院治疗，护士于2023年1月9日给患者用隔物灸仪进行预防便秘治疗时机器运行不良，经过检查后保险丝烧坏，立即更换新的保险丝后继续治疗，未给患者造成不良后果。\n"
     ]
    },
    {
     "name": "stderr",
     "output_type": "stream",
     "text": [
      "Your max_length is set to 60, but your input_length is only 47. Since this is a summarization task, where outputs shorter than the input are typically wanted, you might consider decreasing max_length manually, e.g. summarizer('...', max_length=23)\n"
     ]
    },
    {
     "name": "stdout",
     "output_type": "stream",
     "text": [
      "Result: 双相情感障碍患者被患者烧坏\n",
      "\n",
      "Text:   患者因肋胸腔积液入院，于2023-01-28给予行“胸腔穿刺置管引流术”，术中发现手套破损，立即更换一次性手套，未对患者造成伤害\n",
      "Result: 胸腔穿刺置管引流术患者被疑被穿刺置管引流\n",
      "\n",
      "Text:   患者因原发性肾小球疾病行血液透析治疗，2023.1.23日专科护士常规遵医嘱为患者行血透治疗，使用该产品，引血过程中发现管路渗出少许血性液，检查发现静脉壶上端管路三通处有裂隙，立即予以回血更换管路，继续治疗，增加了血透治疗风险。\n",
      "Result: 专科护士用“血透”治疗\n",
      "\n",
      "Text:   2023.1.28 8:30 进行剖宫产手术前准备用物，取用一次性无菌手术包时，发现手术包包装袋封口不严，自行打开，立即更换合格手术包，继续进行手术，并及时上报。未造成不良影响。\n"
     ]
    },
    {
     "name": "stderr",
     "output_type": "stream",
     "text": [
      "Your max_length is set to 60, but your input_length is only 57. Since this is a summarization task, where outputs shorter than the input are typically wanted, you might consider decreasing max_length manually, e.g. summarizer('...', max_length=28)\n"
     ]
    },
    {
     "name": "stdout",
     "output_type": "stream",
     "text": [
      "Result: 剖宫产手术后,发现无菌手术包封口不严\n",
      "\n",
      "Text:   护士在2023-01-23 06:30在二病房为患者采集血标本时发现采集的血液丛软管滴出，检查后发现软管有破损，立即更换采血针，安抚家属重新采血，家属表示理解。\n"
     ]
    },
    {
     "name": "stderr",
     "output_type": "stream",
     "text": [
      "Your max_length is set to 60, but your input_length is only 49. Since this is a summarization task, where outputs shorter than the input are typically wanted, you might consider decreasing max_length manually, e.g. summarizer('...', max_length=24)\n",
      "Your max_length is set to 60, but your input_length is only 53. Since this is a summarization task, where outputs shorter than the input are typically wanted, you might consider decreasing max_length manually, e.g. summarizer('...', max_length=26)\n"
     ]
    },
    {
     "name": "stdout",
     "output_type": "stream",
     "text": [
      "Result: 护士采集血液丛软管滴出\n",
      "\n",
      "Text:   患者因腹痛于2023年1月29日来院治疗，上午7:40护士给其静脉滴注时，发现输液器管与针头连接不良，立即停止使用更换新的，未造成伤害。\n",
      "Result: 患者腹痛后恢复正常\n",
      "\n",
      "Text:   患者因尿储留住院，护士在为患者进行导尿之前，用注射器给气囊打水试验是否通畅，发现气囊处漏水，尿管不能使用，立即更换，未对患者造成伤害。\n"
     ]
    },
    {
     "name": "stderr",
     "output_type": "stream",
     "text": [
      "Your max_length is set to 60, but your input_length is only 24. Since this is a summarization task, where outputs shorter than the input are typically wanted, you might consider decreasing max_length manually, e.g. summarizer('...', max_length=12)\n"
     ]
    },
    {
     "name": "stdout",
     "output_type": "stream",
     "text": [
      "Result: 护士用注射器给气囊打水试验是否通畅\n",
      "\n",
      "Text:   护士在穿刺前准备时发现输液贴不易撕脱，无法使用。\n",
      "Result:护士在穿刺前准备时发现输液贴不易撕脱，无法使用。\n",
      "\n",
      "Text:   2023.1.15检验人员为患者进行静脉采血时，发现医用棉签无棉球。\n",
      "Result: 患者静脉采血时发现医用棉签无棉球\n",
      "\n",
      "Text:   帽子松紧处断裂\n",
      "Result:帽子松紧处断裂\n",
      "\n",
      "Text:   2023年1月30日，患者因肺恶性肿瘤来我院治疗，，给患者采血过程中发现一次性使用静脉血样采集针连接管胶皮处破损漏血，,立即更换一次性使用静脉血样采血针,对患者造成二次伤害。\n"
     ]
    },
    {
     "name": "stderr",
     "output_type": "stream",
     "text": [
      "Your max_length is set to 60, but your input_length is only 42. Since this is a summarization task, where outputs shorter than the input are typically wanted, you might consider decreasing max_length manually, e.g. summarizer('...', max_length=21)\n"
     ]
    },
    {
     "name": "stdout",
     "output_type": "stream",
     "text": [
      "Result: 患者采血时发现一次性使用静脉血样采集针\n",
      "\n",
      "Text:   2023-01-10，医务人员在穿防护服时，发现帽子处有破损，为避免影响防护效果，保护医护人员，立即更换防护服，未造成不良后果。\n",
      "Result: 防防防防防防防防防防防防\n",
      "\n",
      "Text:   患者因腹痛、腹胀肛门停止排气、排便1周于2023年1月19日 15：12分收治入院，于1月22日 10时准备给与灌肠，灌肠液配好倒入后关闭冲洗器开关，仍有灌肠液流出，不能使用，立即更换，未造成不良后果。\n",
      "Result: 腹胀肛门停止排气排便\n",
      "\n",
      "Text:   患儿因早产生后气促30分钟于2023年1月3日22：35以\"1、早产儿(孕期等于或大于32整周,但小于37整周)2、新生儿湿肺？ \"收入院，患儿男，早产儿貌，1天。查体：体温35.9℃，反应好，哭声正常，面色红润，口周紫绀；呼吸急促，鼻翼扇动；腹软，脐部包扎完好；四肢末梢凉，手足青紫；入院后遵医嘱给予暖箱保暖（温度33℃、湿度65%）、监测血氧饱和度、暖箱吸氧5L/min治疗。晨交班时发现患儿使用暖箱湿度设置为65%，机器显示99%，给予重新开机设置后仍显示湿度为99%，给予设备科报修。\n"
     ]
    },
    {
     "name": "stderr",
     "output_type": "stream",
     "text": [
      "Your max_length is set to 60, but your input_length is only 58. Since this is a summarization task, where outputs shorter than the input are typically wanted, you might consider decreasing max_length manually, e.g. summarizer('...', max_length=29)\n"
     ]
    },
    {
     "name": "stdout",
     "output_type": "stream",
     "text": [
      "Result: 早产儿的“健康”\n",
      "\n",
      "Text:   2023年1月23日，21时，医生为产妇进行会阴缝合时，发现2-0缝针与缝线连接端缝线有断股现象，为避免影响缝合效果，停用该缝合线，未造成不良后果。\n",
      "Result: 产妇阴缝合时发现2-0缝针与缝线有断股现象\n",
      "\n",
      "Text:   2023年1月14日13:05时，汤立祖病人因创伤性硬膜下血肿入院，进行颅内血肿穿刺引流手术治疗，术中需要一次性使用手术刀片11#切开皮肤，巡回护士检查一次性使用手术刀片11#外包装完整打到无菌台上，洗手护士打开一次性使用手术刀片11#内包装发现其有裂缝，无法使用。经过采取别的替代处置措施，未产生不良效果。\n",
      "Result: 汤立祖手术刀片11被指有裂缝\n",
      "\n",
      "Text:   2023年1月16日，患者因病情需要遵医嘱给予雾化吸入，打开雾化器，加入雾化药，连接氧气后，打开氧气不出雾，经查看雾化器进出气口堵塞。立即给予更换，未造成不良后果。\n"
     ]
    },
    {
     "name": "stderr",
     "output_type": "stream",
     "text": [
      "Your max_length is set to 60, but your input_length is only 42. Since this is a summarization task, where outputs shorter than the input are typically wanted, you might consider decreasing max_length manually, e.g. summarizer('...', max_length=21)\n"
     ]
    },
    {
     "name": "stdout",
     "output_type": "stream",
     "text": [
      "Result: 雾化吸入患者,请及时更换\n",
      "\n",
      "Text:   2023年1月28日，护士遵医嘱为患者进行灌肠，配好灌肠液后，发现灌肠袋漏液，不能使用，立即更换新的灌肠包。\n",
      "Result: 护士遵医嘱为患者进行灌肠配好灌肠液后发现灌肠袋漏液\n",
      "\n",
      "Text:   患者因“肺炎”于2023.1.13收住院，入院后遵医嘱给予平喘、化痰类药物治疗及雾化吸入治疗，护士张颖于2023.1.19上午8点给予雾化吸入时，发现一次性使用雾化器不出雾气，多次调整后，无效果，于是立即更换新的一次性使用雾化器，未给患者造成不良后果。\n",
      "Result: 护士用雾化器不给患者造成不良后果\n",
      "\n",
      "Text:   患者2022年12月20日因脑出血到我科治疗。2023年01月23日11时35分更换使用一次性使用颅脑外引流装置，发现使用一次性使用颅脑外引流装置三通管连接开关处漏液，立即更换一次性使用颅脑外引流装置，对患者未造成身体上的危害。\n",
      "Result: 我科治疗:发现一次性使用颅脑外引流装置\n",
      "\n",
      "Text:   2023.1.27  13:00患者孙永江因终末期肾衰竭使用36号血液透析滤过装置进行血液透析滤过治疗，治疗结束机器消毒过程中机器底部漏水，通知工程师杨志红，工程师检查后告知机器内部管路漏水 。对患者无伤害。\n"
     ]
    },
    {
     "name": "stderr",
     "output_type": "stream",
     "text": [
      "Your max_length is set to 60, but your input_length is only 59. Since this is a summarization task, where outputs shorter than the input are typically wanted, you might consider decreasing max_length manually, e.g. summarizer('...', max_length=29)\n"
     ]
    },
    {
     "name": "stdout",
     "output_type": "stream",
     "text": [
      "Result: 患者肾衰竭使用36号血液透析滤过装置治疗结束\n",
      "\n",
      "Text:   2023年1月28日18时，患者因急性胃肠炎至输液室输液，进行输液治疗，使用输液器后，过滤器漏液,无法继续使用，向患者解释后， 重新更换，未造成不良后果。\n",
      "Result: 患者因急性胃肠炎输液治疗未造成不良后果\n",
      "\n",
      "Text:   2023.01.18.06:00护士遵医嘱给予静脉采血时，穿刺成功，连接正常，发现一次性使用静脉血样采集针漏血，告知医生，给患者做好解释工作，给予重新更换一次性使用静脉血样采集针重新采集血标本。\n",
      "Result: 护士遵医嘱:穿刺成功发现一次性使用静脉血样采集针漏血\n",
      "\n",
      "Text:   2023.1.28，刘玉英因喘憋1月余，于2023.1.25入院，进行雾化止咳、平喘治疗，使用一次性使用雾化器时，发生雾化器不出雾,经护士及时发现，更换雾化器，患者得以雾化完成。\n"
     ]
    },
    {
     "name": "stderr",
     "output_type": "stream",
     "text": [
      "Your max_length is set to 60, but your input_length is only 52. Since this is a summarization task, where outputs shorter than the input are typically wanted, you might consider decreasing max_length manually, e.g. summarizer('...', max_length=26)\n"
     ]
    },
    {
     "name": "stdout",
     "output_type": "stream",
     "text": [
      "Result: 刘玉英患雾化器未果患者可雾化完成\n",
      "\n",
      "Text:   2023年01年31日更换口罩时打开新包装的医用防护口罩时发现口罩带子断裂，不能保证口罩正常使用，立即更换新包装的医用防护口罩，整个过程中再无其他不良事件的发生。\n",
      "Result: 武汉医用防护口罩带子断裂\n",
      "\n",
      "Text:   患者荆海艳因口干、多饮、多尿7年诊断为2型糖尿病于2022年12月24日收入我院治疗，护士当日给患者用红外/红光治疗仪治疗时发现治疗仪的红光不亮，立即通知维修人员给予维修，未给患者造成不良后果。\n",
      "Result: 武汉一糖尿病患者因口干多饮多尿7年诊断为2型糖尿病\n",
      "\n",
      "Text:   患者赵聪因发作性头晕1.5小时于2023年1月16日收入我院治疗，诊断为眩晕，入院当日给患者测量体温时发现体温计水银柱从中间断裂，发现问题后立即更换新的体温计，未给患者造成不良后果。\n",
      "Result: 女子发作性头晕1.5小时治疗后发现水银柱断裂\n",
      "\n",
      "Text:   患者徐寿风因L2椎体压缩性骨折于2022年1月18日收入我院治疗，护士于当日给患者加药时发现一次性溶药注射器针头处出现断裂，发现问题后立即更换新的注射器，未给患者造成不良后果。\n",
      "Result: 患者患椎体压缩性骨折治疗后发现注射器针头处断裂\n",
      "\n",
      "Text:   患者陈利因发热12天，发现左侧胸腔积液1天于2023年1月5日收入我院治疗，给患者胸水引流结束封管时发现肝素帽包装破损，立即更换新的肝素帽，未给患者造成不良后果。\n",
      "Result: 患者发热12天发现胸腔积液1天被封管\n",
      "\n",
      "Text:   病人因开放性指骨骨折入住我院外科病区，2023年1月11日9:30遵医嘱配液，护士使用20ml注射器，开包装后发现针管有弯裂痕迹，立即弃用，更换新的注射器，配液顺利进行。\n"
     ]
    },
    {
     "name": "stderr",
     "output_type": "stream",
     "text": [
      "Your max_length is set to 60, but your input_length is only 39. Since this is a summarization task, where outputs shorter than the input are typically wanted, you might consider decreasing max_length manually, e.g. summarizer('...', max_length=19)\n"
     ]
    },
    {
     "name": "stdout",
     "output_type": "stream",
     "text": [
      "Result: 护士用20ml注射器开包装后发现针管有弯裂痕迹\n",
      "\n",
      "Text:   患者因动物咬伤，遵医嘱需要肌注狂犬疫苗，护士在兑药过程中发现针筒有裂痕，立即更换，未对患者造成影响。\n"
     ]
    },
    {
     "name": "stderr",
     "output_type": "stream",
     "text": [
      "Your max_length is set to 60, but your input_length is only 39. Since this is a summarization task, where outputs shorter than the input are typically wanted, you might consider decreasing max_length manually, e.g. summarizer('...', max_length=19)\n"
     ]
    },
    {
     "name": "stdout",
     "output_type": "stream",
     "text": [
      "Result: 护士兑药时发现针筒有裂痕\n",
      "\n",
      "Text:   2023年1月17日，患者来院就诊，医生在给患者进行根管治疗时，发现热牙胶充填机的充填手柄加热不停。\n"
     ]
    },
    {
     "name": "stderr",
     "output_type": "stream",
     "text": [
      "Your max_length is set to 60, but your input_length is only 45. Since this is a summarization task, where outputs shorter than the input are typically wanted, you might consider decreasing max_length manually, e.g. summarizer('...', max_length=22)\n"
     ]
    },
    {
     "name": "stdout",
     "output_type": "stream",
     "text": [
      "Result: 热牙胶充填机充填手柄加热不停\n",
      "\n",
      "Text:   2023.01.22患者刘淑华因患脑梗死收入我院，在护士使用棉签消毒皮肤时，发现棉签有倒刺，立即更换新的棉签，未对患者造成伤害。\n",
      "Result: 患者患脑梗死收入我院护士用棉签消毒皮肤时发现倒刺\n",
      "\n",
      "Text:   患者因肩周炎2023年1月30日入我院治疗，给予穴位敷贴治疗贴治疗，贴敷一会儿后出现了贴敷部位痒，发红等过敏现象，遂停止过敏部位用药。未对患者造成伤害。\n",
      "Result: 女子患肩周炎病患病被敷贴治疗后发红等过敏\n",
      "\n",
      "Text:   2023.01.22患者王淑卿因肺部感染收入我院，在护士使用留置针静脉输液时，发现留置针的夹子断裂，无法正常使用，立即更换新的一次性使用静脉留置针，未对患者造成伤害。\n",
      "Result: 患者用静脉留置针断裂后更换一次性使用\n",
      "\n",
      "Text:   2023.01.28患者解敏因患脑出血破入脑室收入我院，在护士为患者准备静脉输液时，打开输液器包装发现输液器与头皮针连接处，前端断裂，无法使用，立即更换新的输液器，未对患者造成伤害。\n",
      "Result: 患者患脑出血破入脑室收入我院\n",
      "\n",
      "Text:   患者因肺癌住院，住院期间因病情需要，2022.01.16进行静脉输液进行治疗，输液过程中，发现输液器排气孔不通，液体瓶气体排空，输液速度变慢，发现及时未对患者造成不良后果。\n"
     ]
    },
    {
     "name": "stderr",
     "output_type": "stream",
     "text": [
      "Your max_length is set to 60, but your input_length is only 29. Since this is a summarization task, where outputs shorter than the input are typically wanted, you might consider decreasing max_length manually, e.g. summarizer('...', max_length=14)\n"
     ]
    },
    {
     "name": "stdout",
     "output_type": "stream",
     "text": [
      "Result: 肺癌患者肺癌住院期间因病需要静脉输液\n",
      "\n",
      "Text:   2023.01.24，我们单位医生林胜山在为患者测量血压时，发现无法充气。未对患者造成伤害\n"
     ]
    },
    {
     "name": "stderr",
     "output_type": "stream",
     "text": [
      "Your max_length is set to 60, but your input_length is only 53. Since this is a summarization task, where outputs shorter than the input are typically wanted, you might consider decreasing max_length manually, e.g. summarizer('...', max_length=26)\n"
     ]
    },
    {
     "name": "stdout",
     "output_type": "stream",
     "text": [
      "Result: 医生为患者测量血压时发现无法充气未对患者造成伤害\n",
      "\n",
      "Text:   2023.01.25患者王政浩因肺部感染收入我院，在给患者输液使用输液器时，检查发现外包装破损，立即更换包装完好无破损的输液器，未对患者造成伤害。\n"
     ]
    },
    {
     "name": "stderr",
     "output_type": "stream",
     "text": [
      "Your max_length is set to 60, but your input_length is only 49. Since this is a summarization task, where outputs shorter than the input are typically wanted, you might consider decreasing max_length manually, e.g. summarizer('...', max_length=24)\n"
     ]
    },
    {
     "name": "stdout",
     "output_type": "stream",
     "text": [
      "Result: 患者因肺部感染收入我院检查发现外包装破损\n",
      "\n",
      "Text:   2023.1.27患者宋政因桡骨骨折收入我院，术中使用手术止血纱，拆开包装后发现碎裂，无法正常使用，立即更换新的手术止血纱。未对患者造成伤害\n"
     ]
    },
    {
     "name": "stderr",
     "output_type": "stream",
     "text": [
      "Your max_length is set to 60, but your input_length is only 54. Since this is a summarization task, where outputs shorter than the input are typically wanted, you might consider decreasing max_length manually, e.g. summarizer('...', max_length=27)\n"
     ]
    },
    {
     "name": "stdout",
     "output_type": "stream",
     "text": [
      "Result: 患者因肋骨骨折收入我院手术止血纱拆开包装后发现碎裂\n",
      "\n",
      "Text:   2023.01.18，为3床患者王希玉做穴位贴敷时，打开穴位贴发现穴位贴上无盛药膏的圆圈，导致无法涂抹药膏，给予更换另一穴位贴后方可正常使用。\n"
     ]
    },
    {
     "name": "stderr",
     "output_type": "stream",
     "text": [
      "Your max_length is set to 60, but your input_length is only 38. Since this is a summarization task, where outputs shorter than the input are typically wanted, you might consider decreasing max_length manually, e.g. summarizer('...', max_length=19)\n"
     ]
    },
    {
     "name": "stdout",
     "output_type": "stream",
     "text": [
      "Result: 男子用穴位贴敷后发现无盛药膏圆圈\n",
      "\n",
      "Text:   正常佩戴口罩，口罩带太松不能让口罩贴合面部，鼻夹固定不住，口罩体整体太过轻薄，达不到外科口罩要求标准\n",
      "Result: 戴口罩带太松不能贴合面部鼻夹固定不住\n",
      "\n",
      "Text:   患者因腹部胀痛收入我科治疗，于2023.01.28.15:00自述腹胀难忍，通知值班医师，遵医嘱给予胃肠减压，为患者使用前，发现负压引流器前端接头破损，不能与胃管进行连接，无法使用，立即更换负压引流器，未造成医护人员自身伤害，并通知护士长。\n"
     ]
    },
    {
     "name": "stderr",
     "output_type": "stream",
     "text": [
      "Your max_length is set to 60, but your input_length is only 45. Since this is a summarization task, where outputs shorter than the input are typically wanted, you might consider decreasing max_length manually, e.g. summarizer('...', max_length=22)\n"
     ]
    },
    {
     "name": "stdout",
     "output_type": "stream",
     "text": [
      "Result: 医生:腹胀难忍,请医生检查\n",
      "\n",
      "Text:   2023.01.24，患者因需给予补液治疗，使用一次性使用精密过滤输液器时莫非式滴管漏液，不能使用，立即给予更换，未产生直接不良后果。\n",
      "Result: 用精密过滤输液器时莫非式滴管漏液\n",
      "\n",
      "Text:   9床乔平于2023.1.11因心慌、胸痛1天入院。患者入院初步诊断心房纤颤，1月12日患者再次出现心房纤颤，08：00准医嘱予以病人5%葡萄糖44ml+胺碘酮0.3g泵入，泵入过程中50ml注射器针筒壁有一裂痕（配置过程中未发现）出现漏液，于11：00发现，遵医嘱予以更换注射器，继续泵入。患者于16：10恢复窦性心律。\n",
      "Result: 9床乔平心慌胸痛1天入院\n",
      "\n",
      "Text:   2023.1.13手术室护士执行设备术前检查时，发现设备不断报错\"23017\",重启后恢复正常，工程师接到故障报修后与厂家工程师沟通，该故障报警提示3号臂马达运动位置故障，需要更换3号臂，未对患者造成不良影响。\n",
      "Result: 手术室护士故障报错23017\n",
      "\n",
      "Text:   患者因前列腺术后于2023-1-28日14:00分在微创手术室行膀胱镜下复查，术前手术医生打开一次性使用灭菌橡胶外科手套后，发现包装内两只手套均为左手，无法正常佩戴，即予以更换，未对患者造成不良后果。\n",
      "Result: 前列腺术后手术后发现两只手套均为左手\n",
      "\n",
      "Text:   患者因左胫骨骨折术后于2023-1-29日9:00分腰硬联合麻醉下行内固定物取出术，术前麻醉医生打开一次性使用腰硬联合麻醉穿刺套件后，发现腰麻针前端弯曲，影响置入，即予以更换，未对患者造成不良后果。\n"
     ]
    },
    {
     "name": "stderr",
     "output_type": "stream",
     "text": [
      "Your max_length is set to 60, but your input_length is only 55. Since this is a summarization task, where outputs shorter than the input are typically wanted, you might consider decreasing max_length manually, e.g. summarizer('...', max_length=27)\n"
     ]
    },
    {
     "name": "stdout",
     "output_type": "stream",
     "text": [
      "Result: 腰硬联合麻醉穿刺套件被取出\n",
      "\n",
      "Text:   2023-1-28日7:45分肝胆胰外科护理人员在进行交接班时，发现其中一手摇式病床无法摇起，即报修医院设备科，经工程师检查并更换床摇杆后，病床可正常使用。\n",
      "Result: 肝胆胰外科护理人员发现一手摇式病床无法摇起\n",
      "\n",
      "Text:   患者因脑栓塞入院，遵医嘱行静脉输液治疗。2023-1-23日9:00分责任护士准备为患者输液，开启一次性使用静脉输液针包装后，发现静脉输液针针头弯曲，无法继续使用，即予以更换，未对患者造成不良后果。\n",
      "Result: 静脉输液针头弯曲无法更换\n",
      "\n",
      "Text:   患者因高血压于2023-1-20日20时入急诊抢救室，遵医嘱立即行静脉输液。夜班护士准备使用留置针为患者穿刺输液，打开静脉留置针外包装后，发现留置针卡扣呈分离状，无法继续使用，即予以更换，未对患者造成不良后果。\n"
     ]
    },
    {
     "name": "stderr",
     "output_type": "stream",
     "text": [
      "Your max_length is set to 60, but your input_length is only 41. Since this is a summarization task, where outputs shorter than the input are typically wanted, you might consider decreasing max_length manually, e.g. summarizer('...', max_length=20)\n"
     ]
    },
    {
     "name": "stdout",
     "output_type": "stream",
     "text": [
      "Result: 患者高血压20时入急诊室行静脉输液\n",
      "\n",
      "Text:   2023年1月10号早晨遵医嘱给予患者抽取静脉血，采血过程中发现绿色采血管无负压，立即更换，未对患者造成不良影响。\n",
      "Result: 云南一医院将患者抽取静脉血\n",
      "\n",
      "Text:   患者因肺部感染入院，遵医嘱行静脉输液。2023-1-17日21：26分夜班护士输液前常规进行检查和排气时，发现输液器排气孔漏液，无法继续使用，即予以更换，未对患者造成不良后果。\n"
     ]
    },
    {
     "name": "stderr",
     "output_type": "stream",
     "text": [
      "Your max_length is set to 60, but your input_length is only 31. Since this is a summarization task, where outputs shorter than the input are typically wanted, you might consider decreasing max_length manually, e.g. summarizer('...', max_length=15)\n"
     ]
    },
    {
     "name": "stdout",
     "output_type": "stream",
     "text": [
      "Result: 患者肺部感染入院遵医嘱行静脉输液\n",
      "\n",
      "Text:   工作人员在取用医用防护口罩时发现，空包装一只，包装袋内无口罩，立即更换使用，未造成其他伤害\n",
      "Result: 医用防护口罩空包装一只包装袋内无口罩\n",
      "\n",
      "Text:   患者因尿频于2年01月13号07时遵医嘱给予出院带管路留置导尿，患者出院后下午16时返回病房，经询问家属自述在家时发现尿液浸湿全身，经查看尿管脱出，立即返回医院病房，经医护查看发现球囊破裂导致尿管脱落，患者给予重新置管留置导尿，进行二次插管，造成二次患者痛苦，患者不满。\n",
      "Result: 尿频尿频患者出院后返病房\n",
      "\n",
      "Text:   患者因左胫骨骨折拟行手术治疗，2023-1-16日14:36分洗手护士术前准备手术所需用物时，发现医用脱脂纱布块与包装粘连，不易取出，立即更换另包医用纱布块，未对患者造成不良后果。\n"
     ]
    },
    {
     "name": "stderr",
     "output_type": "stream",
     "text": [
      "Your max_length is set to 60, but your input_length is only 31. Since this is a summarization task, where outputs shorter than the input are typically wanted, you might consider decreasing max_length manually, e.g. summarizer('...', max_length=15)\n"
     ]
    },
    {
     "name": "stdout",
     "output_type": "stream",
     "text": [
      "Result: 洗手护士术前准备手术时发现医用脱脂纱布块\n",
      "\n",
      "Text:   患者因肺炎给予雾化吸入，开具一次性使用面罩，使用过程护士发现不出雾，给予更换面罩。\n"
     ]
    },
    {
     "name": "stderr",
     "output_type": "stream",
     "text": [
      "Your max_length is set to 60, but your input_length is only 46. Since this is a summarization task, where outputs shorter than the input are typically wanted, you might consider decreasing max_length manually, e.g. summarizer('...', max_length=23)\n"
     ]
    },
    {
     "name": "stdout",
     "output_type": "stream",
     "text": [
      "Result: 武汉患者因肺炎吸入患者开具一次性使用面罩护士发现不出雾\n",
      "\n",
      "Text:   2023.01.02技师例行设备使用前检查时，发现无法刷新患者信息，也无法传输图像，联系医工处维修，工程师检查为网卡故障，未对患者造成不良影响。\n",
      "Result: 网卡故障:技师检查为网卡故障\n",
      "\n",
      "Text:   患者因创伤性脑出血入SICU，遵医嘱行持续导尿。2022-12-28日23:50分夜班护士为患者导尿前常规检测导尿管时，发现导尿管水囊无法居中，如果使用易引起脱管，立即更换另一无菌导尿包，未对患者造成不良后果。\n"
     ]
    },
    {
     "name": "stderr",
     "output_type": "stream",
     "text": [
      "Your max_length is set to 60, but your input_length is only 55. Since this is a summarization task, where outputs shorter than the input are typically wanted, you might consider decreasing max_length manually, e.g. summarizer('...', max_length=27)\n"
     ]
    },
    {
     "name": "stdout",
     "output_type": "stream",
     "text": [
      "Result: 患者脑出血入ICU,医生提醒:不影响患者健康\n",
      "\n",
      "Text:   2023-1-2日8:15分妇科护士准备佩戴一次性使用灭菌橡胶外科手套为患者进行护理操作时，发现外科手套自手掌处自然破裂，无法正常佩戴，即予以更换，未对工作人员造成影响。\n"
     ]
    },
    {
     "name": "stderr",
     "output_type": "stream",
     "text": [
      "Your max_length is set to 60, but your input_length is only 48. Since this is a summarization task, where outputs shorter than the input are typically wanted, you might consider decreasing max_length manually, e.g. summarizer('...', max_length=24)\n"
     ]
    },
    {
     "name": "stdout",
     "output_type": "stream",
     "text": [
      "Result: 妇科护士佩戴灭菌橡胶外科手套\n",
      "\n",
      "Text:   2022-12-31日13:20分肿瘤内一科工作人员上岗后准备佩戴医用防护口罩时，发现防护口罩面开裂，无法正常佩戴，即予以更换，未对工作人员造成不良后果。\n",
      "Result: 肿瘤内一科工作人员上岗后发现防护口罩面开裂\n",
      "\n",
      "Text:   患者因尿毒症拟行血液透析治疗，2023-1-4日13:00分护士准备为患者行血液透析治疗，上机预冲时发现透析器膜外侧孔漏液，无法继续使用，立即更换另一同规格空心纤维透析器重新预冲，此事件延误患者治疗时间。\n",
      "Result: 尿毒症拟行血液透析治疗\n",
      "\n",
      "Text:   患者因慢性肾脏病于2023-1-5日10:30分在手术室行为肾透析的动静脉造瘘术，洗手护士在打开外科缝线包装后，发现针线分离，无法继续使用，立即更换另一同规格外科缝线，未对患者造成不良后果。\n",
      "Result: 手术室内脏病患者洗手护士打开外科缝线包装后发现针线分离\n",
      "\n",
      "Text:   2023-1-6日放射科技师在使用数字化医用X射线摄影系统为患者做检查时，发现设备照射野灯（定位灯）不亮，即报修医院设备科，经工程师检查，照射野灯为损耗配件，长时间使用易出现问题，更换新的照射野灯后故障解除。\n"
     ]
    },
    {
     "name": "stderr",
     "output_type": "stream",
     "text": [
      "Your max_length is set to 60, but your input_length is only 47. Since this is a summarization task, where outputs shorter than the input are typically wanted, you might consider decreasing max_length manually, e.g. summarizer('...', max_length=23)\n"
     ]
    },
    {
     "name": "stdout",
     "output_type": "stream",
     "text": [
      "Result: 放射科技师使用X射线摄影系统照射野灯不亮\n",
      "\n",
      "Text:   2022-12-30日16:15分妇科工作人员到岗后准备佩戴医用防护口罩时，发现口罩系带自然断裂，无法正常佩戴，立即给予更换，未对工作人员造成不良后果。\n",
      "Result: 妇科工作人员佩戴医用防护口罩后发现自然断裂\n",
      "\n",
      "Text:   患者因前列腺肥大于2022-12-27日10:00分在全麻下行经尿道前列腺等离子电切术，洗手护士在准备手术所需用物时，发现高频切除环形电极弯曲，无法继续使用，即予以更换，未对患者造成不良后果。\n",
      "Result: 前列腺肥大手术时高频切除环形电极弯曲\n",
      "\n",
      "Text:   患者于2022.12.30日在手术室行腔镜下胃大部切除术，使用该产品，术者常规操作，术中使用时主机报警提示系统问题，经更换手柄线、系统重启后，故障仍无法排除，立即予以更换新的刀头，完成手术治疗。相对增加了手术风险。\n",
      "Result: 手术室行腔镜下胃大部切除术\n",
      "\n",
      "Text:   2022-12-28日10:20分创伤二科护士准备使用监护仪为患者进行生命体征监测时，发现监护仪袖带显示充气不足，血氧饱和度亦不显示，无法继续使用，立即更换另台监护仪，后科室报修设备科并上报器械不良事件。\n",
      "Result: 创伤二科护士使用监护仪后发现血氧饱和度不显示\n",
      "\n",
      "Text:   患者因晚孕拟行子宫下段剖宫产术，术前遵医嘱行导尿。2022-12-28日2:36分护士导尿前常规进行尿管检测时，发现尿管不通畅，无法继续使用，即予以更换，未对患者造成不良后果。\n"
     ]
    },
    {
     "name": "stderr",
     "output_type": "stream",
     "text": [
      "Your max_length is set to 60, but your input_length is only 58. Since this is a summarization task, where outputs shorter than the input are typically wanted, you might consider decreasing max_length manually, e.g. summarizer('...', max_length=29)\n"
     ]
    },
    {
     "name": "stdout",
     "output_type": "stream",
     "text": [
      "Result: 孕妇因晚孕拟行导尿术前遵医嘱行导尿\n",
      "\n",
      "Text:   2023.1.3手术室护士执行设备术前检查时，发现视野图像发暗，工程师接到故障报修，发现导光束侧内部连接处发烫烧糊，立即停用故障镜子，联系厂家维修，未对患者造成不良影响。\n"
     ]
    },
    {
     "name": "stderr",
     "output_type": "stream",
     "text": [
      "Your max_length is set to 60, but your input_length is only 53. Since this is a summarization task, where outputs shorter than the input are typically wanted, you might consider decreasing max_length manually, e.g. summarizer('...', max_length=26)\n"
     ]
    },
    {
     "name": "stdout",
     "output_type": "stream",
     "text": [
      "Result: 手术室护士检查时发现视野图像发暗\n",
      "\n",
      "Text:   2023年1月9日，技师例行设备使用前做质量校准，发现报错纵向运动失败，立即联系医工处维修，工程师检查为传动皮带松弛导致，未对患者造成不良影响。\n",
      "Result: 技师例行设备使用前做质量校准发现报错纵向运动失败\n",
      "\n",
      "Text:   2023年1月9日，技师例行设备开机前检查时，发现屏幕报错水冷机冷却故障，水冷机无法启动，立即联系医工处维修，工程师检查为备间空调故障导致环境温度过高，水冷机热保护，未对患者造成不良影响。\n"
     ]
    },
    {
     "name": "stderr",
     "output_type": "stream",
     "text": [
      "Your max_length is set to 60, but your input_length is only 38. Since this is a summarization task, where outputs shorter than the input are typically wanted, you might consider decreasing max_length manually, e.g. summarizer('...', max_length=19)\n"
     ]
    },
    {
     "name": "stdout",
     "output_type": "stream",
     "text": [
      "Result: 水冷机故障故障,维修工程师称不影响\n",
      "\n",
      "Text:   2022年12月30日，技师例行设备开机前晨检时，发现设备进入操作界面后，操作界面各个按键为灰色，无法操作，立即停止使用设备并及时联系医工处维修，工程师检查为计算机cpu板上的纽扣电池无电导致该故障，未对患者造成不良影响。\n",
      "Result: 计算机故障:故障后故障\n",
      "\n",
      "Text:   2022.12.22医护人员例行设备使用前检查时，发现设备报警070，联系设备科维修，工程师检查为主板故障，未对患者造成不良影响。\n"
     ]
    },
    {
     "name": "stderr",
     "output_type": "stream",
     "text": [
      "Your max_length is set to 60, but your input_length is only 58. Since this is a summarization task, where outputs shorter than the input are typically wanted, you might consider decreasing max_length manually, e.g. summarizer('...', max_length=29)\n"
     ]
    },
    {
     "name": "stdout",
     "output_type": "stream",
     "text": [
      "Result: 医护人员例行设备使用前检查发现设备报警070\n",
      "\n",
      "Text:   2022.12.26医护人员例行设备开机前晨检时，发现手控盒无法控制机架，立即联系医工处维修，工程师检查为手控盒使用频繁，元器件老化严重所致，未对患者造成不良影响。\n"
     ]
    },
    {
     "name": "stderr",
     "output_type": "stream",
     "text": [
      "Your max_length is set to 60, but your input_length is only 55. Since this is a summarization task, where outputs shorter than the input are typically wanted, you might consider decreasing max_length manually, e.g. summarizer('...', max_length=27)\n"
     ]
    },
    {
     "name": "stdout",
     "output_type": "stream",
     "text": [
      "Result: 医护人员开机前晨检发现手控盒无法控制机架\n",
      "\n",
      "Text:   2022.12.31医护人员给患者行影像检查时，发现病床脚闸无法打开，延误患者检查，立即联系医工处维修，工程师检查为病床使用率高，脚闸老化，未对患者造成不良影响。\n"
     ]
    },
    {
     "name": "stderr",
     "output_type": "stream",
     "text": [
      "Your max_length is set to 60, but your input_length is only 50. Since this is a summarization task, where outputs shorter than the input are typically wanted, you might consider decreasing max_length manually, e.g. summarizer('...', max_length=25)\n"
     ]
    },
    {
     "name": "stdout",
     "output_type": "stream",
     "text": [
      "Result: 医护人员发现病床脚闸无法打开\n",
      "\n",
      "Text:   2022.12.28医务人员例行设备使用前自检时，发现设备报错“FOIL和CARR”，立即联系医工处维修，工程师检查为W32号线故障，未对患者造成不良影响。\n"
     ]
    },
    {
     "name": "stderr",
     "output_type": "stream",
     "text": [
      "Your max_length is set to 60, but your input_length is only 47. Since this is a summarization task, where outputs shorter than the input are typically wanted, you might consider decreasing max_length manually, e.g. summarizer('...', max_length=23)\n"
     ]
    },
    {
     "name": "stdout",
     "output_type": "stream",
     "text": [
      "Result: 医务人员自检发现设备报错“FOIL和CARR”\n",
      "\n",
      "Text:   2022.12.26医护人员例行设备开机前自检时，发现设备报错TDLY，立即联系医工处维修，工程师检查为钥匙底座故障，未对患者造成不良影响。\n",
      "Result: 武汉医护人员自检发现TDLY故障\n",
      "\n",
      "Text:   2023年1月5日，技师给患者行影像诊断时，发现使用曝光手闸无法曝光，但使用无线遥控器可遥控曝光，立即联系医工处维修，工程师检查为曝光手闸故障，该故障不影响使用，未对患者造成不良影响。\n"
     ]
    },
    {
     "name": "stderr",
     "output_type": "stream",
     "text": [
      "Your max_length is set to 60, but your input_length is only 48. Since this is a summarization task, where outputs shorter than the input are typically wanted, you might consider decreasing max_length manually, e.g. summarizer('...', max_length=24)\n"
     ]
    },
    {
     "name": "stdout",
     "output_type": "stream",
     "text": [
      "Result: 武汉一技师发现使用曝光手闸无法曝光\n",
      "\n",
      "Text:   2022.12.27医务人员例行设备开机前自检时，发现设备报错“COL.MLC”，联系医工处维修，工程师检查为多叶光栅故障，未对患者造成不良影响。\n",
      "Result: 医务人员自检发现设备报错“COL.MLC”\n",
      "\n",
      "Text:   2022年12月16日8:30分护士遵医嘱为1床汤旭相进行静脉输液，留置针穿刺成功后进行透明敷料固定，去除敷料贴纸出现贴膜自动卷在一起现象无法使用，护士发现后立即更换透明敷料，未对患者造成不良影响。\n"
     ]
    },
    {
     "name": "stderr",
     "output_type": "stream",
     "text": [
      "Your max_length is set to 60, but your input_length is only 55. Since this is a summarization task, where outputs shorter than the input are typically wanted, you might consider decreasing max_length manually, e.g. summarizer('...', max_length=27)\n"
     ]
    },
    {
     "name": "stdout",
     "output_type": "stream",
     "text": [
      "Result: 护士遵医嘱为1床汤旭相进行静脉输液\n",
      "\n",
      "Text:   2022.12.29 9:00遵医嘱为患进行PICC换药，在为患者使用预冲 排气时，发现预冲的针柄处破裂，立即为患者更换新的预冲式注射器，未对患者造成任何损害。\n",
      "Result: 预冲式注射器,不影响患者健康\n",
      "\n",
      "Text:   2022年12月16日8:30分护士遵医嘱为6床李仁家相进行静脉输液，留置针穿刺成功后进行透明敷料固定，去除敷料贴纸出现贴膜自动卷在一起现象无法使用，护士发现后立即更换透明敷料，未对患者造成不良影响。\n",
      "Result: 护士遵医嘱为6床李仁家相进行静脉输液\n",
      "\n",
      "Text:   患儿于2022.12.13日在手术室行腺样体增生等离子射频手术，使用该产品，术者常规操作，前检查无异常，使用过程中刀头绝缘层破裂漏电，患者口内有（或没有）不明显烫伤，立即予以更换，完成手术治疗。增加了手术风险，待术后继续观察。\n",
      "Result: 手术室行腺样体增生等离子射频手术\n",
      "\n",
      "Text:   患者于2022年12月16日在手术室行腔镜下子宫全切术，使用超声刀切割凝血。术者常规操作，术中使用时监视屏提示刀头损坏，无法使用，立即予以更换。相对增加了手术风险。\n"
     ]
    },
    {
     "name": "stderr",
     "output_type": "stream",
     "text": [
      "Your max_length is set to 60, but your input_length is only 59. Since this is a summarization task, where outputs shorter than the input are typically wanted, you might consider decreasing max_length manually, e.g. summarizer('...', max_length=29)\n"
     ]
    },
    {
     "name": "stdout",
     "output_type": "stream",
     "text": [
      "Result: 手术室行腔镜下子宫全切术\n",
      "\n",
      "Text:   患者于2022年12月21日在导管室行PCI手术，使用该产品，术者常规操作，术前检查康德莱微导管，发现钢丝拔出困难，损伤管壁，立即予以更换。未对患者造成不良影响。\n",
      "Result: 康德莱微导管手术术前检查钢丝拔出困难\n",
      "\n"
     ]
    }
   ],
   "source": [
    "for text in events:\n",
    "    print('Text:   {}'.format(text))\n",
    "    if len(text) >= 30:\n",
    "        summary_text = summarizer(text, max_length=60, do_sample=False)\n",
    "        # summary_text = summarizer(text)\n",
    "        print('Result: {}\\n'.format(summary_text[0]['summary_text']))\n",
    "    else:\n",
    "        print('Result:{}\\n'.format(text))"
   ]
  },
  {
   "cell_type": "code",
   "execution_count": 13,
   "metadata": {},
   "outputs": [
    {
     "name": "stdout",
     "output_type": "stream",
     "text": [
      "Text:   患者因剖宫产遵医嘱行会阴消毒，2022-12-29日14:00分责任护士打开一次性使用会阴护理包时，发现包内中单与包装粘连，无法取下，重新更换单包装中单后完成操作，未对患者造成不良后果。\n"
     ]
    },
    {
     "name": "stderr",
     "output_type": "stream",
     "text": [
      "Your max_length is set to 60, but your input_length is only 48. Since this is a summarization task, where outputs shorter than the input are typically wanted, you might consider decreasing max_length manually, e.g. summarizer('...', max_length=24)\n"
     ]
    },
    {
     "name": "stdout",
     "output_type": "stream",
     "text": [
      "Result: 会阴护理包中单粘连未造成不良后果\n",
      "\n",
      "Text:   2023年1月10日牙周科护士进行器械处理前，佩戴手套时发现手指指尖处有破损，负责护士和医生联系医疗器械不良反应报告人员，重新更换手套\n",
      "Result: 牙周科护士佩戴手套时手指破损\n",
      "\n",
      "Text:   患者因肾功能不全入ICU行床旁血滤治疗，2023-1-10日17:00分护士准备为患者进行血滤治疗，在上机预冲时发现血液滤过管路破损漏液，无法继续使用，立即更换另套管路并重新上机预冲，此事件延误了患者的治疗时间。\n"
     ]
    },
    {
     "name": "stderr",
     "output_type": "stream",
     "text": [
      "Your max_length is set to 60, but your input_length is only 33. Since this is a summarization task, where outputs shorter than the input are typically wanted, you might consider decreasing max_length manually, e.g. summarizer('...', max_length=16)\n"
     ]
    },
    {
     "name": "stdout",
     "output_type": "stream",
     "text": [
      "Result: 医院血滤治疗延误患者治疗时间\n",
      "\n",
      "Text:   护士在穿戴二级防护时，检查发现防护服拉链损坏，无法正常穿戴，立即更换，未对患者造成伤害。\n",
      "Result: 护士穿戴二级防护时拉链损坏无法正常穿戴\n",
      "\n",
      "Text:   患者因锁骨骨折术后于2023-1-30日15：36分在手术室行内固定物取出术，洗手护士在准备手术所需用物时，发现医用脱脂纱布块外包装破损，不符合无菌要求，即予以更换，未对患者造成不良后果。\n"
     ]
    },
    {
     "name": "stderr",
     "output_type": "stream",
     "text": [
      "Your max_length is set to 60, but your input_length is only 42. Since this is a summarization task, where outputs shorter than the input are typically wanted, you might consider decreasing max_length manually, e.g. summarizer('...', max_length=21)\n"
     ]
    },
    {
     "name": "stdout",
     "output_type": "stream",
     "text": [
      "Result: 武汉一医院锁骨骨折术后被洗手护士更换脱脂纱布\n",
      "\n",
      "Text:   接诊医生为患者测量空腹血糖，血糖条无法自动吸血，导致无法测量，更换新的血糖条后，顺利为患者测量了空腹血糖。\n"
     ]
    },
    {
     "name": "stderr",
     "output_type": "stream",
     "text": [
      "Your max_length is set to 60, but your input_length is only 23. Since this is a summarization task, where outputs shorter than the input are typically wanted, you might consider decreasing max_length manually, e.g. summarizer('...', max_length=11)\n"
     ]
    },
    {
     "name": "stdout",
     "output_type": "stream",
     "text": [
      "Result: 医生为患者测量空腹血糖\n",
      "\n",
      "Text:   2023年1月30日分诊台的护士发现电子血压计在使用过程中接触不良。\n",
      "Result: 电子血压计使用过程中接触不良\n",
      "\n",
      "Text:   患者因膀胱癌手术治疗，2023.1.16日护士遵医嘱为患者持续导尿，使用该产品，使用尿管前检查尿管，注入常规注水量，检查过程中出现水囊破裂，立即予以更换。未对患者造成不良影响。\n",
      "Result: 护士用尿管注入常规注水量致膀胱癌患者死亡\n",
      "\n",
      "Text:   患者因左挠骨骨折于2023-1-30日14:36分在臂丛麻醉下行挠骨骨折切开复位内固定术，洗手护士术前准备医用脱脂纱布块时，发现纱布块与包装粘连，无法取出，即予以更换，未对患者造成不良后果。\n"
     ]
    },
    {
     "name": "stderr",
     "output_type": "stream",
     "text": [
      "Your max_length is set to 60, but your input_length is only 56. Since this is a summarization task, where outputs shorter than the input are typically wanted, you might consider decreasing max_length manually, e.g. summarizer('...', max_length=28)\n"
     ]
    },
    {
     "name": "stdout",
     "output_type": "stream",
     "text": [
      "Result: 患者左挠骨骨折切开复位内固定术\n",
      "\n",
      "Text:   患者于2023年1月16日行单根导管的冠状动脉造影术，使用指引导管Launcher LA6EBU35,打开包装后，发现中间处折弯，立即予以更换。未对患者造成不良影响。\n",
      "Result: 美国一患者使用指引导管造影术\n",
      "\n",
      "Text:   患者因急性肾功能衰竭住院ICU,2023.1.15日15:00医师在局麻下于患者右腹股沟处进行置管行血透治疗，使用该产品，开包后检查导管时发现导管连接处即将断裂且导丝抽不出，立即予以更换。未对患者造成不良影响。\n"
     ]
    },
    {
     "name": "stderr",
     "output_type": "stream",
     "text": [
      "Your max_length is set to 60, but your input_length is only 46. Since this is a summarization task, where outputs shorter than the input are typically wanted, you might consider decreasing max_length manually, e.g. summarizer('...', max_length=23)\n"
     ]
    },
    {
     "name": "stdout",
     "output_type": "stream",
     "text": [
      "Result: 武汉一医院用“肾”药管行血透治疗\n",
      "\n",
      "Text:   科室医生在给患者诊疗过程中使用橡皮障，打孔后发现橡皮障一撕就碎不能进行正常的操作。更换新的橡皮障后继续给患者进行诊疗。\n"
     ]
    },
    {
     "name": "stderr",
     "output_type": "stream",
     "text": [
      "Your max_length is set to 60, but your input_length is only 31. Since this is a summarization task, where outputs shorter than the input are typically wanted, you might consider decreasing max_length manually, e.g. summarizer('...', max_length=15)\n"
     ]
    },
    {
     "name": "stdout",
     "output_type": "stream",
     "text": [
      "Result: 医生用橡皮障打孔后发现一撕就碎不能进行操作\n",
      "\n",
      "Text:   该设备进行扫描过程中，系统出现蓝屏现象，重启后存在系统报错故障，影响病号进行扫描。\n"
     ]
    },
    {
     "name": "stderr",
     "output_type": "stream",
     "text": [
      "Your max_length is set to 60, but your input_length is only 47. Since this is a summarization task, where outputs shorter than the input are typically wanted, you might consider decreasing max_length manually, e.g. summarizer('...', max_length=23)\n"
     ]
    },
    {
     "name": "stdout",
     "output_type": "stream",
     "text": [
      "Result: 三星手机重启后存报错故障\n",
      "\n",
      "Text:   患者因胸腔积液入院，1月13日，医生给予持续胸腔闭式引流，引流过程中引流袋破损，更换新的引流袋，未对患者造成不良影响。\n"
     ]
    },
    {
     "name": "stderr",
     "output_type": "stream",
     "text": [
      "Your max_length is set to 60, but your input_length is only 30. Since this is a summarization task, where outputs shorter than the input are typically wanted, you might consider decreasing max_length manually, e.g. summarizer('...', max_length=15)\n"
     ]
    },
    {
     "name": "stdout",
     "output_type": "stream",
     "text": [
      "Result: 武汉一患者胸腔积液入院引流袋破损\n",
      "\n",
      "Text:   护士在使用棉签时发现棉签头无棉花无法使用，立即重新更棉签，未对患者造成不良影响\n"
     ]
    },
    {
     "name": "stderr",
     "output_type": "stream",
     "text": [
      "Your max_length is set to 60, but your input_length is only 36. Since this is a summarization task, where outputs shorter than the input are typically wanted, you might consider decreasing max_length manually, e.g. summarizer('...', max_length=18)\n"
     ]
    },
    {
     "name": "stdout",
     "output_type": "stream",
     "text": [
      "Result: 护士用棉签头无棉花无法使用护士重新更棉签\n",
      "\n",
      "Text:   2023.1.13 责任护士打开透气胶布，无环形固定贴，立即更换使用。向家属及患者解释，未给患者造成伤害。\n"
     ]
    },
    {
     "name": "stderr",
     "output_type": "stream",
     "text": [
      "Your max_length is set to 60, but your input_length is only 30. Since this is a summarization task, where outputs shorter than the input are typically wanted, you might consider decreasing max_length manually, e.g. summarizer('...', max_length=15)\n"
     ]
    },
    {
     "name": "stdout",
     "output_type": "stream",
     "text": [
      "Result: 武汉一护士用透气胶布致死\n",
      "\n",
      "Text:   患者在家更换造口袋发现造口袋封边漏大便，给予重新更换造口袋，未造成不良影响。\n"
     ]
    },
    {
     "name": "stderr",
     "output_type": "stream",
     "text": [
      "Your max_length is set to 60, but your input_length is only 44. Since this is a summarization task, where outputs shorter than the input are typically wanted, you might consider decreasing max_length manually, e.g. summarizer('...', max_length=22)\n"
     ]
    },
    {
     "name": "stdout",
     "output_type": "stream",
     "text": [
      "Result: 武汉一医院更换造口袋发现封边漏大便\n",
      "\n",
      "Text:   1月28日，给患者修淑花进行会阴消毒，打开一次性使用无菌换药包，缺少一把镊子，立即更换换药包，未对患者造成伤害。\n"
     ]
    },
    {
     "name": "stderr",
     "output_type": "stream",
     "text": [
      "Your max_length is set to 60, but your input_length is only 47. Since this is a summarization task, where outputs shorter than the input are typically wanted, you might consider decreasing max_length manually, e.g. summarizer('...', max_length=23)\n"
     ]
    },
    {
     "name": "stdout",
     "output_type": "stream",
     "text": [
      "Result: 武汉一医院给患者修淑花进行会阴消毒\n",
      "\n",
      "Text:   1月16日，姜明芳病人进行血液透析治疗，使用血液净化装置的透析器产品，发生透析器一半血液不通，更换管路重新上机，未造成不良影响。\n"
     ]
    },
    {
     "name": "stderr",
     "output_type": "stream",
     "text": [
      "Your max_length is set to 60, but your input_length is only 56. Since this is a summarization task, where outputs shorter than the input are typically wanted, you might consider decreasing max_length manually, e.g. summarizer('...', max_length=28)\n"
     ]
    },
    {
     "name": "stdout",
     "output_type": "stream",
     "text": [
      "Result: 姜明芳病人血液透析器发生一半血液不通\n",
      "\n",
      "Text:   该病人因心肌梗塞病入院，进行冠脉支架治疗，手术时，使用导引导管产品，发生导引导管前端有折痕事件,未产生伤害，经过更换导引导管处置措施，未产生不良效果。\n"
     ]
    },
    {
     "name": "stderr",
     "output_type": "stream",
     "text": [
      "Your max_length is set to 60, but your input_length is only 45. Since this is a summarization task, where outputs shorter than the input are typically wanted, you might consider decreasing max_length manually, e.g. summarizer('...', max_length=22)\n"
     ]
    },
    {
     "name": "stdout",
     "output_type": "stream",
     "text": [
      "Result: 武汉一患者因心肌梗塞病入院治疗\n",
      "\n",
      "Text:   2023.1.25日晨6:38左右护士赵晏露为患者采集血标本时，有一采血管无负压，护士立即更换采血管为患者留取血标本，未造成其他伤害。\n"
     ]
    },
    {
     "name": "stderr",
     "output_type": "stream",
     "text": [
      "Your max_length is set to 60, but your input_length is only 30. Since this is a summarization task, where outputs shorter than the input are typically wanted, you might consider decreasing max_length manually, e.g. summarizer('...', max_length=15)\n"
     ]
    },
    {
     "name": "stdout",
     "output_type": "stream",
     "text": [
      "Result: 昆明一护士为患者采集血标本时有采血管无负压\n",
      "\n",
      "Text:   7时10分，护理人员上班时佩戴口罩，打开包装发现口罩带不完整，护士及时更换，未造成伤害。\n",
      "Result: 昆明一护士上班时戴不完整口罩\n",
      "\n",
      "Text:   使用时不开机\n",
      "Result:使用时不开机\n",
      "\n",
      "Text:   患者王炳海因心率过快于2023年1月4日来我院急诊科就诊，护士将液体用输液泵给患者泵入，在治疗使用过程中，出现输液泵报警，立即换下，使用另一台输液泵，并通知维修人员及时维修，未给患者造成不良后果。\n",
      "Result: 患者心率过快于2023年1月4日来我院就诊\n",
      "\n",
      "Text:   患者李田相因双相情感障碍于2022年12月7日收入我院治疗，护士于2023年1月9日给患者用隔物灸仪进行预防便秘治疗时机器运行不良，经过检查后保险丝烧坏，立即更换新的保险丝后继续治疗，未给患者造成不良后果。\n"
     ]
    },
    {
     "name": "stderr",
     "output_type": "stream",
     "text": [
      "Your max_length is set to 60, but your input_length is only 47. Since this is a summarization task, where outputs shorter than the input are typically wanted, you might consider decreasing max_length manually, e.g. summarizer('...', max_length=23)\n"
     ]
    },
    {
     "name": "stdout",
     "output_type": "stream",
     "text": [
      "Result: 我院:患者因双相情感障碍治疗时机器运行不良\n",
      "\n",
      "Text:   患者因肋胸腔积液入院，于2023-01-28给予行“胸腔穿刺置管引流术”，术中发现手套破损，立即更换一次性手套，未对患者造成伤害\n",
      "Result: 武汉一患者因肋胸积液入院手术\n",
      "\n",
      "Text:   患者因原发性肾小球疾病行血液透析治疗，2023.1.23日专科护士常规遵医嘱为患者行血透治疗，使用该产品，引血过程中发现管路渗出少许血性液，检查发现静脉壶上端管路三通处有裂隙，立即予以回血更换管路，继续治疗，增加了血透治疗风险。\n",
      "Result: 专科护士用“肾小球”引血\n",
      "\n",
      "Text:   2023.1.28 8:30 进行剖宫产手术前准备用物，取用一次性无菌手术包时，发现手术包包装袋封口不严，自行打开，立即更换合格手术包，继续进行手术，并及时上报。未造成不良影响。\n"
     ]
    },
    {
     "name": "stderr",
     "output_type": "stream",
     "text": [
      "Your max_length is set to 60, but your input_length is only 57. Since this is a summarization task, where outputs shorter than the input are typically wanted, you might consider decreasing max_length manually, e.g. summarizer('...', max_length=28)\n"
     ]
    },
    {
     "name": "stdout",
     "output_type": "stream",
     "text": [
      "Result: 昆明市卫生局:剖宫产手术前发现无菌手术包\n",
      "\n",
      "Text:   护士在2023-01-23 06:30在二病房为患者采集血标本时发现采集的血液丛软管滴出，检查后发现软管有破损，立即更换采血针，安抚家属重新采血，家属表示理解。\n"
     ]
    },
    {
     "name": "stderr",
     "output_type": "stream",
     "text": [
      "Your max_length is set to 60, but your input_length is only 49. Since this is a summarization task, where outputs shorter than the input are typically wanted, you might consider decreasing max_length manually, e.g. summarizer('...', max_length=24)\n"
     ]
    },
    {
     "name": "stdout",
     "output_type": "stream",
     "text": [
      "Result: 济南二病房发现血液丛软管破损\n",
      "\n",
      "Text:   患者因腹痛于2023年1月29日来院治疗，上午7:40护士给其静脉滴注时，发现输液器管与针头连接不良，立即停止使用更换新的，未造成伤害。\n"
     ]
    },
    {
     "name": "stderr",
     "output_type": "stream",
     "text": [
      "Your max_length is set to 60, but your input_length is only 53. Since this is a summarization task, where outputs shorter than the input are typically wanted, you might consider decreasing max_length manually, e.g. summarizer('...', max_length=26)\n"
     ]
    },
    {
     "name": "stdout",
     "output_type": "stream",
     "text": [
      "Result: 武汉一患者因腹痛入院治疗\n",
      "\n",
      "Text:   患者因尿储留住院，护士在为患者进行导尿之前，用注射器给气囊打水试验是否通畅，发现气囊处漏水，尿管不能使用，立即更换，未对患者造成伤害。\n"
     ]
    },
    {
     "name": "stderr",
     "output_type": "stream",
     "text": [
      "Your max_length is set to 60, but your input_length is only 24. Since this is a summarization task, where outputs shorter than the input are typically wanted, you might consider decreasing max_length manually, e.g. summarizer('...', max_length=12)\n"
     ]
    },
    {
     "name": "stdout",
     "output_type": "stream",
     "text": [
      "Result: 护士用注射器给患者导尿后发现气囊处漏水\n",
      "\n",
      "Text:   护士在穿刺前准备时发现输液贴不易撕脱，无法使用。\n",
      "Result:护士在穿刺前准备时发现输液贴不易撕脱，无法使用。\n",
      "\n",
      "Text:   2023.1.15检验人员为患者进行静脉采血时，发现医用棉签无棉球。\n",
      "Result: 医院采血发现医用棉签无棉球\n",
      "\n",
      "Text:   帽子松紧处断裂\n",
      "Result:帽子松紧处断裂\n",
      "\n",
      "Text:   2023年1月30日，患者因肺恶性肿瘤来我院治疗，，给患者采血过程中发现一次性使用静脉血样采集针连接管胶皮处破损漏血，,立即更换一次性使用静脉血样采血针,对患者造成二次伤害。\n"
     ]
    },
    {
     "name": "stderr",
     "output_type": "stream",
     "text": [
      "Your max_length is set to 60, but your input_length is only 42. Since this is a summarization task, where outputs shorter than the input are typically wanted, you might consider decreasing max_length manually, e.g. summarizer('...', max_length=21)\n"
     ]
    },
    {
     "name": "stdout",
     "output_type": "stream",
     "text": [
      "Result: 我院:一次性使用静脉血样采集针对患者造成二次伤害\n",
      "\n",
      "Text:   2023-01-10，医务人员在穿防护服时，发现帽子处有破损，为避免影响防护效果，保护医护人员，立即更换防护服，未造成不良后果。\n",
      "Result: 武汉:防护服穿破损帽子处有破损\n",
      "\n",
      "Text:   患者因腹痛、腹胀肛门停止排气、排便1周于2023年1月19日 15：12分收治入院，于1月22日 10时准备给与灌肠，灌肠液配好倒入后关闭冲洗器开关，仍有灌肠液流出，不能使用，立即更换，未造成不良后果。\n"
     ]
    },
    {
     "name": "stderr",
     "output_type": "stream",
     "text": [
      "Your max_length is set to 60, but your input_length is only 58. Since this is a summarization task, where outputs shorter than the input are typically wanted, you might consider decreasing max_length manually, e.g. summarizer('...', max_length=29)\n"
     ]
    },
    {
     "name": "stdout",
     "output_type": "stream",
     "text": [
      "Result: 武汉一男子因腹痛、腹胀肛门停止排气、排便入院\n",
      "\n",
      "Text:   患儿因早产生后气促30分钟于2023年1月3日22：35以\"1、早产儿(孕期等于或大于32整周,但小于37整周)2、新生儿湿肺？ \"收入院，患儿男，早产儿貌，1天。查体：体温35.9℃，反应好，哭声正常，面色红润，口周紫绀；呼吸急促，鼻翼扇动；腹软，脐部包扎完好；四肢末梢凉，手足青紫；入院后遵医嘱给予暖箱保暖（温度33℃、湿度65%）、监测血氧饱和度、暖箱吸氧5L/min治疗。晨交班时发现患儿使用暖箱湿度设置为65%，机器显示99%，给予重新开机设置后仍显示湿度为99%，给予设备科报修。\n",
      "Result: 早产儿的健康\n",
      "\n",
      "Text:   2023年1月23日，21时，医生为产妇进行会阴缝合时，发现2-0缝针与缝线连接端缝线有断股现象，为避免影响缝合效果，停用该缝合线，未造成不良后果。\n",
      "Result: 产妇阴缝合时发现2至2缝针与缝线有断股现象\n",
      "\n",
      "Text:   2023年1月14日13:05时，汤立祖病人因创伤性硬膜下血肿入院，进行颅内血肿穿刺引流手术治疗，术中需要一次性使用手术刀片11#切开皮肤，巡回护士检查一次性使用手术刀片11#外包装完整打到无菌台上，洗手护士打开一次性使用手术刀片11#内包装发现其有裂缝，无法使用。经过采取别的替代处置措施，未产生不良效果。\n",
      "Result: 汤立祖手术刀片11\n",
      "\n",
      "Text:   2023年1月16日，患者因病情需要遵医嘱给予雾化吸入，打开雾化器，加入雾化药，连接氧气后，打开氧气不出雾，经查看雾化器进出气口堵塞。立即给予更换，未造成不良后果。\n"
     ]
    },
    {
     "name": "stderr",
     "output_type": "stream",
     "text": [
      "Your max_length is set to 60, but your input_length is only 42. Since this is a summarization task, where outputs shorter than the input are typically wanted, you might consider decreasing max_length manually, e.g. summarizer('...', max_length=21)\n"
     ]
    },
    {
     "name": "stdout",
     "output_type": "stream",
     "text": [
      "Result: 雾化吸入氧气,如何正确更换?\n",
      "\n",
      "Text:   2023年1月28日，护士遵医嘱为患者进行灌肠，配好灌肠液后，发现灌肠袋漏液，不能使用，立即更换新的灌肠包。\n",
      "Result: 护士遵医嘱为患者进行灌肠\n",
      "\n",
      "Text:   患者因“肺炎”于2023.1.13收住院，入院后遵医嘱给予平喘、化痰类药物治疗及雾化吸入治疗，护士张颖于2023.1.19上午8点给予雾化吸入时，发现一次性使用雾化器不出雾气，多次调整后，无效果，于是立即更换新的一次性使用雾化器，未给患者造成不良后果。\n",
      "Result: 武汉一护士用雾化器未给患者造成不良后果\n",
      "\n",
      "Text:   患者2022年12月20日因脑出血到我科治疗。2023年01月23日11时35分更换使用一次性使用颅脑外引流装置，发现使用一次性使用颅脑外引流装置三通管连接开关处漏液，立即更换一次性使用颅脑外引流装置，对患者未造成身体上的危害。\n",
      "Result: 我科医院:关于一次性使用颅脑外引流装置的公告\n",
      "\n",
      "Text:   2023.1.27  13:00患者孙永江因终末期肾衰竭使用36号血液透析滤过装置进行血液透析滤过治疗，治疗结束机器消毒过程中机器底部漏水，通知工程师杨志红，工程师检查后告知机器内部管路漏水 。对患者无伤害。\n"
     ]
    },
    {
     "name": "stderr",
     "output_type": "stream",
     "text": [
      "Your max_length is set to 60, but your input_length is only 59. Since this is a summarization task, where outputs shorter than the input are typically wanted, you might consider decreasing max_length manually, e.g. summarizer('...', max_length=29)\n"
     ]
    },
    {
     "name": "stdout",
     "output_type": "stream",
     "text": [
      "Result: 武汉一医院因肾衰竭使用透析滤过装置进行治疗\n",
      "\n",
      "Text:   2023年1月28日18时，患者因急性胃肠炎至输液室输液，进行输液治疗，使用输液器后，过滤器漏液,无法继续使用，向患者解释后， 重新更换，未造成不良后果。\n",
      "Result: 卫生部:2013年1月28日18时,输液器重新更换\n",
      "\n",
      "Text:   2023.01.18.06:00护士遵医嘱给予静脉采血时，穿刺成功，连接正常，发现一次性使用静脉血样采集针漏血，告知医生，给患者做好解释工作，给予重新更换一次性使用静脉血样采集针重新采集血标本。\n",
      "Result: 护士用静脉采血时穿刺成功\n",
      "\n",
      "Text:   2023.1.28，刘玉英因喘憋1月余，于2023.1.25入院，进行雾化止咳、平喘治疗，使用一次性使用雾化器时，发生雾化器不出雾,经护士及时发现，更换雾化器，患者得以雾化完成。\n"
     ]
    },
    {
     "name": "stderr",
     "output_type": "stream",
     "text": [
      "Your max_length is set to 60, but your input_length is only 52. Since this is a summarization task, where outputs shorter than the input are typically wanted, you might consider decreasing max_length manually, e.g. summarizer('...', max_length=26)\n"
     ]
    },
    {
     "name": "stdout",
     "output_type": "stream",
     "text": [
      "Result: 武汉男子雾化1月余后入院\n",
      "\n",
      "Text:   2023年01年31日更换口罩时打开新包装的医用防护口罩时发现口罩带子断裂，不能保证口罩正常使用，立即更换新包装的医用防护口罩，整个过程中再无其他不良事件的发生。\n",
      "Result: 卫生部:更换新包装的医用防护口罩时发现带子断裂\n",
      "\n",
      "Text:   患者荆海艳因口干、多饮、多尿7年诊断为2型糖尿病于2022年12月24日收入我院治疗，护士当日给患者用红外/红光治疗仪治疗时发现治疗仪的红光不亮，立即通知维修人员给予维修，未给患者造成不良后果。\n",
      "Result: 武汉一医院医生因红光不亮通知维修人员\n",
      "\n",
      "Text:   患者赵聪因发作性头晕1.5小时于2023年1月16日收入我院治疗，诊断为眩晕，入院当日给患者测量体温时发现体温计水银柱从中间断裂，发现问题后立即更换新的体温计，未给患者造成不良后果。\n",
      "Result: 我院一患者发作性头晕1.5小时\n",
      "\n",
      "Text:   患者徐寿风因L2椎体压缩性骨折于2022年1月18日收入我院治疗，护士于当日给患者加药时发现一次性溶药注射器针头处出现断裂，发现问题后立即更换新的注射器，未给患者造成不良后果。\n",
      "Result: 我院一患者注射器针头处断裂\n",
      "\n",
      "Text:   患者陈利因发热12天，发现左侧胸腔积液1天于2023年1月5日收入我院治疗，给患者胸水引流结束封管时发现肝素帽包装破损，立即更换新的肝素帽，未给患者造成不良后果。\n",
      "Result: 我院:肝素帽包装破损未造成不良后果\n",
      "\n",
      "Text:   病人因开放性指骨骨折入住我院外科病区，2023年1月11日9:30遵医嘱配液，护士使用20ml注射器，开包装后发现针管有弯裂痕迹，立即弃用，更换新的注射器，配液顺利进行。\n"
     ]
    },
    {
     "name": "stderr",
     "output_type": "stream",
     "text": [
      "Your max_length is set to 60, but your input_length is only 39. Since this is a summarization task, where outputs shorter than the input are typically wanted, you might consider decreasing max_length manually, e.g. summarizer('...', max_length=19)\n"
     ]
    },
    {
     "name": "stdout",
     "output_type": "stream",
     "text": [
      "Result: 我院外科病区注射器更换新配液\n",
      "\n",
      "Text:   患者因动物咬伤，遵医嘱需要肌注狂犬疫苗，护士在兑药过程中发现针筒有裂痕，立即更换，未对患者造成影响。\n"
     ]
    },
    {
     "name": "stderr",
     "output_type": "stream",
     "text": [
      "Your max_length is set to 60, but your input_length is only 39. Since this is a summarization task, where outputs shorter than the input are typically wanted, you might consider decreasing max_length manually, e.g. summarizer('...', max_length=19)\n"
     ]
    },
    {
     "name": "stdout",
     "output_type": "stream",
     "text": [
      "Result: 昆明一患者因动物咬伤需肌注狂犬疫苗针筒有裂痕\n",
      "\n",
      "Text:   2023年1月17日，患者来院就诊，医生在给患者进行根管治疗时，发现热牙胶充填机的充填手柄加热不停。\n"
     ]
    },
    {
     "name": "stderr",
     "output_type": "stream",
     "text": [
      "Your max_length is set to 60, but your input_length is only 45. Since this is a summarization task, where outputs shorter than the input are typically wanted, you might consider decreasing max_length manually, e.g. summarizer('...', max_length=22)\n"
     ]
    },
    {
     "name": "stdout",
     "output_type": "stream",
     "text": [
      "Result: 热牙胶充填机加热不停\n",
      "\n",
      "Text:   2023.01.22患者刘淑华因患脑梗死收入我院，在护士使用棉签消毒皮肤时，发现棉签有倒刺，立即更换新的棉签，未对患者造成伤害。\n",
      "Result: 患者患脑梗死收入我院棉签消毒时发现倒刺\n",
      "\n",
      "Text:   患者因肩周炎2023年1月30日入我院治疗，给予穴位敷贴治疗贴治疗，贴敷一会儿后出现了贴敷部位痒，发红等过敏现象，遂停止过敏部位用药。未对患者造成伤害。\n",
      "Result: 我院:患者因肩周炎入院治疗\n",
      "\n",
      "Text:   2023.01.22患者王淑卿因肺部感染收入我院，在护士使用留置针静脉输液时，发现留置针的夹子断裂，无法正常使用，立即更换新的一次性使用静脉留置针，未对患者造成伤害。\n",
      "Result: 我院患者用静脉输液时夹子断裂无法正常使用\n",
      "\n",
      "Text:   2023.01.28患者解敏因患脑出血破入脑室收入我院，在护士为患者准备静脉输液时，打开输液器包装发现输液器与头皮针连接处，前端断裂，无法使用，立即更换新的输液器，未对患者造成伤害。\n",
      "Result: 患者脑出血破入脑室收入我院\n",
      "\n",
      "Text:   患者因肺癌住院，住院期间因病情需要，2022.01.16进行静脉输液进行治疗，输液过程中，发现输液器排气孔不通，液体瓶气体排空，输液速度变慢，发现及时未对患者造成不良后果。\n"
     ]
    },
    {
     "name": "stderr",
     "output_type": "stream",
     "text": [
      "Your max_length is set to 60, but your input_length is only 29. Since this is a summarization task, where outputs shorter than the input are typically wanted, you might consider decreasing max_length manually, e.g. summarizer('...', max_length=14)\n"
     ]
    },
    {
     "name": "stdout",
     "output_type": "stream",
     "text": [
      "Result: 肺癌患者住院期间静脉输液\n",
      "\n",
      "Text:   2023.01.24，我们单位医生林胜山在为患者测量血压时，发现无法充气。未对患者造成伤害\n"
     ]
    },
    {
     "name": "stderr",
     "output_type": "stream",
     "text": [
      "Your max_length is set to 60, but your input_length is only 53. Since this is a summarization task, where outputs shorter than the input are typically wanted, you might consider decreasing max_length manually, e.g. summarizer('...', max_length=26)\n"
     ]
    },
    {
     "name": "stdout",
     "output_type": "stream",
     "text": [
      "Result: 武汉一医生为患者测量血压时无法充气未对患者造成伤害\n",
      "\n",
      "Text:   2023.01.25患者王政浩因肺部感染收入我院，在给患者输液使用输液器时，检查发现外包装破损，立即更换包装完好无破损的输液器，未对患者造成伤害。\n"
     ]
    },
    {
     "name": "stderr",
     "output_type": "stream",
     "text": [
      "Your max_length is set to 60, but your input_length is only 49. Since this is a summarization task, where outputs shorter than the input are typically wanted, you might consider decreasing max_length manually, e.g. summarizer('...', max_length=24)\n"
     ]
    },
    {
     "name": "stdout",
     "output_type": "stream",
     "text": [
      "Result: 患者因肺部感染收入我院输液器外包装破损\n",
      "\n",
      "Text:   2023.1.27患者宋政因桡骨骨折收入我院，术中使用手术止血纱，拆开包装后发现碎裂，无法正常使用，立即更换新的手术止血纱。未对患者造成伤害\n"
     ]
    },
    {
     "name": "stderr",
     "output_type": "stream",
     "text": [
      "Your max_length is set to 60, but your input_length is only 54. Since this is a summarization task, where outputs shorter than the input are typically wanted, you might consider decreasing max_length manually, e.g. summarizer('...', max_length=27)\n"
     ]
    },
    {
     "name": "stdout",
     "output_type": "stream",
     "text": [
      "Result: 云南鲁甸地震患者手术止血纱碎裂\n",
      "\n",
      "Text:   2023.01.18，为3床患者王希玉做穴位贴敷时，打开穴位贴发现穴位贴上无盛药膏的圆圈，导致无法涂抹药膏，给予更换另一穴位贴后方可正常使用。\n"
     ]
    },
    {
     "name": "stderr",
     "output_type": "stream",
     "text": [
      "Your max_length is set to 60, but your input_length is only 38. Since this is a summarization task, where outputs shorter than the input are typically wanted, you might consider decreasing max_length manually, e.g. summarizer('...', max_length=19)\n"
     ]
    },
    {
     "name": "stdout",
     "output_type": "stream",
     "text": [
      "Result: 医院用无盛药膏敷敷3床患者\n",
      "\n",
      "Text:   正常佩戴口罩，口罩带太松不能让口罩贴合面部，鼻夹固定不住，口罩体整体太过轻薄，达不到外科口罩要求标准\n",
      "Result: 戴口罩太松不能贴合面部\n",
      "\n",
      "Text:   患者因腹部胀痛收入我科治疗，于2023.01.28.15:00自述腹胀难忍，通知值班医师，遵医嘱给予胃肠减压，为患者使用前，发现负压引流器前端接头破损，不能与胃管进行连接，无法使用，立即更换负压引流器，未造成医护人员自身伤害，并通知护士长。\n"
     ]
    },
    {
     "name": "stderr",
     "output_type": "stream",
     "text": [
      "Your max_length is set to 60, but your input_length is only 45. Since this is a summarization task, where outputs shorter than the input are typically wanted, you might consider decreasing max_length manually, e.g. summarizer('...', max_length=22)\n"
     ]
    },
    {
     "name": "stdout",
     "output_type": "stream",
     "text": [
      "Result: 我科医生:腹胀难忍\n",
      "\n",
      "Text:   2023.01.24，患者因需给予补液治疗，使用一次性使用精密过滤输液器时莫非式滴管漏液，不能使用，立即给予更换，未产生直接不良后果。\n",
      "Result: 武汉:一次性使用精密过滤输液器莫非式滴管漏液\n",
      "\n",
      "Text:   9床乔平于2023.1.11因心慌、胸痛1天入院。患者入院初步诊断心房纤颤，1月12日患者再次出现心房纤颤，08：00准医嘱予以病人5%葡萄糖44ml+胺碘酮0.3g泵入，泵入过程中50ml注射器针筒壁有一裂痕（配置过程中未发现）出现漏液，于11：00发现，遵医嘱予以更换注射器，继续泵入。患者于16：10恢复窦性心律。\n",
      "Result: 心房纤颤入院\n",
      "\n",
      "Text:   2023.1.13手术室护士执行设备术前检查时，发现设备不断报错\"23017\",重启后恢复正常，工程师接到故障报修后与厂家工程师沟通，该故障报警提示3号臂马达运动位置故障，需要更换3号臂，未对患者造成不良影响。\n",
      "Result: 武汉手术室手术室发现设备报错\n",
      "\n",
      "Text:   患者因前列腺术后于2023-1-28日14:00分在微创手术室行膀胱镜下复查，术前手术医生打开一次性使用灭菌橡胶外科手套后，发现包装内两只手套均为左手，无法正常佩戴，即予以更换，未对患者造成不良后果。\n",
      "Result: 手术室发现左手手套未造成不良后果\n",
      "\n",
      "Text:   患者因左胫骨骨折术后于2023-1-29日9:00分腰硬联合麻醉下行内固定物取出术，术前麻醉医生打开一次性使用腰硬联合麻醉穿刺套件后，发现腰麻针前端弯曲，影响置入，即予以更换，未对患者造成不良后果。\n"
     ]
    },
    {
     "name": "stderr",
     "output_type": "stream",
     "text": [
      "Your max_length is set to 60, but your input_length is only 55. Since this is a summarization task, where outputs shorter than the input are typically wanted, you might consider decreasing max_length manually, e.g. summarizer('...', max_length=27)\n"
     ]
    },
    {
     "name": "stdout",
     "output_type": "stream",
     "text": [
      "Result: 麻醉医生更换腰麻针未造成不良后果\n",
      "\n",
      "Text:   2023-1-28日7:45分肝胆胰外科护理人员在进行交接班时，发现其中一手摇式病床无法摇起，即报修医院设备科，经工程师检查并更换床摇杆后，病床可正常使用。\n",
      "Result: 医院发现一手摇式病床无法摇起\n",
      "\n",
      "Text:   患者因脑栓塞入院，遵医嘱行静脉输液治疗。2023-1-23日9:00分责任护士准备为患者输液，开启一次性使用静脉输液针包装后，发现静脉输液针针头弯曲，无法继续使用，即予以更换，未对患者造成不良后果。\n",
      "Result: 昆明一护士用静脉输液针头弯曲未造成不良后果\n",
      "\n",
      "Text:   患者因高血压于2023-1-20日20时入急诊抢救室，遵医嘱立即行静脉输液。夜班护士准备使用留置针为患者穿刺输液，打开静脉留置针外包装后，发现留置针卡扣呈分离状，无法继续使用，即予以更换，未对患者造成不良后果。\n"
     ]
    },
    {
     "name": "stderr",
     "output_type": "stream",
     "text": [
      "Your max_length is set to 60, but your input_length is only 41. Since this is a summarization task, where outputs shorter than the input are typically wanted, you might consider decreasing max_length manually, e.g. summarizer('...', max_length=20)\n"
     ]
    },
    {
     "name": "stdout",
     "output_type": "stream",
     "text": [
      "Result: 武汉一患者因高血压在急诊室行静脉输液\n",
      "\n",
      "Text:   2023年1月10号早晨遵医嘱给予患者抽取静脉血，采血过程中发现绿色采血管无负压，立即更换，未对患者造成不良影响。\n",
      "Result: 昆明市医院原副院长朱永元接受患者抽取静脉血\n",
      "\n",
      "Text:   患者因肺部感染入院，遵医嘱行静脉输液。2023-1-17日21：26分夜班护士输液前常规进行检查和排气时，发现输液器排气孔漏液，无法继续使用，即予以更换，未对患者造成不良后果。\n"
     ]
    },
    {
     "name": "stderr",
     "output_type": "stream",
     "text": [
      "Your max_length is set to 60, but your input_length is only 31. Since this is a summarization task, where outputs shorter than the input are typically wanted, you might consider decreasing max_length manually, e.g. summarizer('...', max_length=15)\n"
     ]
    },
    {
     "name": "stdout",
     "output_type": "stream",
     "text": [
      "Result: 武汉一患者肺部感染入院输液器排气孔漏液\n",
      "\n",
      "Text:   工作人员在取用医用防护口罩时发现，空包装一只，包装袋内无口罩，立即更换使用，未造成其他伤害\n",
      "Result: 武汉一医院用医用防护口罩被发现空包装一只\n",
      "\n",
      "Text:   患者因尿频于2年01月13号07时遵医嘱给予出院带管路留置导尿，患者出院后下午16时返回病房，经询问家属自述在家时发现尿液浸湿全身，经查看尿管脱出，立即返回医院病房，经医护查看发现球囊破裂导致尿管脱落，患者给予重新置管留置导尿，进行二次插管，造成二次患者痛苦，患者不满。\n",
      "Result: 尿频频患者入院\n",
      "\n",
      "Text:   患者因左胫骨骨折拟行手术治疗，2023-1-16日14:36分洗手护士术前准备手术所需用物时，发现医用脱脂纱布块与包装粘连，不易取出，立即更换另包医用纱布块，未对患者造成不良后果。\n"
     ]
    },
    {
     "name": "stderr",
     "output_type": "stream",
     "text": [
      "Your max_length is set to 60, but your input_length is only 31. Since this is a summarization task, where outputs shorter than the input are typically wanted, you might consider decreasing max_length manually, e.g. summarizer('...', max_length=15)\n"
     ]
    },
    {
     "name": "stdout",
     "output_type": "stream",
     "text": [
      "Result: 洗手护士手术前发现脱脂纱布与包装粘连不易取出\n",
      "\n",
      "Text:   患者因肺炎给予雾化吸入，开具一次性使用面罩，使用过程护士发现不出雾，给予更换面罩。\n"
     ]
    },
    {
     "name": "stderr",
     "output_type": "stream",
     "text": [
      "Your max_length is set to 60, but your input_length is only 46. Since this is a summarization task, where outputs shorter than the input are typically wanted, you might consider decreasing max_length manually, e.g. summarizer('...', max_length=23)\n"
     ]
    },
    {
     "name": "stdout",
     "output_type": "stream",
     "text": [
      "Result: 武汉患者因肺炎给予雾化吸入开具一次性使用面罩\n",
      "\n",
      "Text:   2023.01.02技师例行设备使用前检查时，发现无法刷新患者信息，也无法传输图像，联系医工处维修，工程师检查为网卡故障，未对患者造成不良影响。\n",
      "Result: 武汉一医院网卡故障致患者信息无法传输\n",
      "\n",
      "Text:   患者因创伤性脑出血入SICU，遵医嘱行持续导尿。2022-12-28日23:50分夜班护士为患者导尿前常规检测导尿管时，发现导尿管水囊无法居中，如果使用易引起脱管，立即更换另一无菌导尿包，未对患者造成不良后果。\n"
     ]
    },
    {
     "name": "stderr",
     "output_type": "stream",
     "text": [
      "Your max_length is set to 60, but your input_length is only 55. Since this is a summarization task, where outputs shorter than the input are typically wanted, you might consider decreasing max_length manually, e.g. summarizer('...', max_length=27)\n"
     ]
    },
    {
     "name": "stdout",
     "output_type": "stream",
     "text": [
      "Result: 患者脑出血入ICU导尿管水囊无法居中\n",
      "\n",
      "Text:   2023-1-2日8:15分妇科护士准备佩戴一次性使用灭菌橡胶外科手套为患者进行护理操作时，发现外科手套自手掌处自然破裂，无法正常佩戴，即予以更换，未对工作人员造成影响。\n"
     ]
    },
    {
     "name": "stderr",
     "output_type": "stream",
     "text": [
      "Your max_length is set to 60, but your input_length is only 48. Since this is a summarization task, where outputs shorter than the input are typically wanted, you might consider decreasing max_length manually, e.g. summarizer('...', max_length=24)\n"
     ]
    },
    {
     "name": "stdout",
     "output_type": "stream",
     "text": [
      "Result: 妇科护士使用灭菌橡胶外科手套自手掌处自然破裂\n",
      "\n",
      "Text:   2022-12-31日13:20分肿瘤内一科工作人员上岗后准备佩戴医用防护口罩时，发现防护口罩面开裂，无法正常佩戴，即予以更换，未对工作人员造成不良后果。\n",
      "Result: 肿瘤内一科工作人员上岗后防护口罩面开裂\n",
      "\n",
      "Text:   患者因尿毒症拟行血液透析治疗，2023-1-4日13:00分护士准备为患者行血液透析治疗，上机预冲时发现透析器膜外侧孔漏液，无法继续使用，立即更换另一同规格空心纤维透析器重新预冲，此事件延误患者治疗时间。\n",
      "Result: 尿毒症患者行血液透析治疗延误治疗时间\n",
      "\n",
      "Text:   患者因慢性肾脏病于2023-1-5日10:30分在手术室行为肾透析的动静脉造瘘术，洗手护士在打开外科缝线包装后，发现针线分离，无法继续使用，立即更换另一同规格外科缝线，未对患者造成不良后果。\n",
      "Result: 武汉一医院手术室发生慢性肾脏病针线分离\n",
      "\n",
      "Text:   2023-1-6日放射科技师在使用数字化医用X射线摄影系统为患者做检查时，发现设备照射野灯（定位灯）不亮，即报修医院设备科，经工程师检查，照射野灯为损耗配件，长时间使用易出现问题，更换新的照射野灯后故障解除。\n"
     ]
    },
    {
     "name": "stderr",
     "output_type": "stream",
     "text": [
      "Your max_length is set to 60, but your input_length is only 47. Since this is a summarization task, where outputs shorter than the input are typically wanted, you might consider decreasing max_length manually, e.g. summarizer('...', max_length=23)\n"
     ]
    },
    {
     "name": "stdout",
     "output_type": "stream",
     "text": [
      "Result: 放射科技师:激光照射野灯不亮\n",
      "\n",
      "Text:   2022-12-30日16:15分妇科工作人员到岗后准备佩戴医用防护口罩时，发现口罩系带自然断裂，无法正常佩戴，立即给予更换，未对工作人员造成不良后果。\n",
      "Result: 济南妇科人员佩戴医用防护口罩时发现系带自然断裂\n",
      "\n",
      "Text:   患者因前列腺肥大于2022-12-27日10:00分在全麻下行经尿道前列腺等离子电切术，洗手护士在准备手术所需用物时，发现高频切除环形电极弯曲，无法继续使用，即予以更换，未对患者造成不良后果。\n",
      "Result: 全麻尿道前列腺等离子电切术患者被高频切除\n",
      "\n",
      "Text:   患者于2022.12.30日在手术室行腔镜下胃大部切除术，使用该产品，术者常规操作，术中使用时主机报警提示系统问题，经更换手柄线、系统重启后，故障仍无法排除，立即予以更换新的刀头，完成手术治疗。相对增加了手术风险。\n",
      "Result: 武汉一患者在行腔镜下胃大部切除术\n",
      "\n",
      "Text:   2022-12-28日10:20分创伤二科护士准备使用监护仪为患者进行生命体征监测时，发现监护仪袖带显示充气不足，血氧饱和度亦不显示，无法继续使用，立即更换另台监护仪，后科室报修设备科并上报器械不良事件。\n",
      "Result: 创伤二科护士监护仪袖带充气不足\n",
      "\n",
      "Text:   患者因晚孕拟行子宫下段剖宫产术，术前遵医嘱行导尿。2022-12-28日2:36分护士导尿前常规进行尿管检测时，发现尿管不通畅，无法继续使用，即予以更换，未对患者造成不良后果。\n"
     ]
    },
    {
     "name": "stderr",
     "output_type": "stream",
     "text": [
      "Your max_length is set to 60, but your input_length is only 58. Since this is a summarization task, where outputs shorter than the input are typically wanted, you might consider decreasing max_length manually, e.g. summarizer('...', max_length=29)\n"
     ]
    },
    {
     "name": "stdout",
     "output_type": "stream",
     "text": [
      "Result: 昆明一护士因晚孕拟行子宫下段剖宫产术后尿管不通畅\n",
      "\n",
      "Text:   2023.1.3手术室护士执行设备术前检查时，发现视野图像发暗，工程师接到故障报修，发现导光束侧内部连接处发烫烧糊，立即停用故障镜子，联系厂家维修，未对患者造成不良影响。\n"
     ]
    },
    {
     "name": "stderr",
     "output_type": "stream",
     "text": [
      "Your max_length is set to 60, but your input_length is only 53. Since this is a summarization task, where outputs shorter than the input are typically wanted, you might consider decreasing max_length manually, e.g. summarizer('...', max_length=26)\n"
     ]
    },
    {
     "name": "stdout",
     "output_type": "stream",
     "text": [
      "Result: 武汉手术室手术室发现视野图像发暗\n",
      "\n",
      "Text:   2023年1月9日，技师例行设备使用前做质量校准，发现报错纵向运动失败，立即联系医工处维修，工程师检查为传动皮带松弛导致，未对患者造成不良影响。\n",
      "Result: 武汉一技师因报错纵向运动失败被诊断\n",
      "\n",
      "Text:   2023年1月9日，技师例行设备开机前检查时，发现屏幕报错水冷机冷却故障，水冷机无法启动，立即联系医工处维修，工程师检查为备间空调故障导致环境温度过高，水冷机热保护，未对患者造成不良影响。\n",
      "Result: 武汉一工程师因空调故障被查出水冷机故障\n",
      "\n",
      "Text:   2022年12月30日，技师例行设备开机前晨检时，发现设备进入操作界面后，操作界面各个按键为灰色，无法操作，立即停止使用设备并及时联系医工处维修，工程师检查为计算机cpu板上的纽扣电池无电导致该故障，未对患者造成不良影响。\n"
     ]
    },
    {
     "name": "stderr",
     "output_type": "stream",
     "text": [
      "Your max_length is set to 60, but your input_length is only 38. Since this is a summarization task, where outputs shorter than the input are typically wanted, you might consider decreasing max_length manually, e.g. summarizer('...', max_length=19)\n"
     ]
    },
    {
     "name": "stdout",
     "output_type": "stream",
     "text": [
      "Result: 中国移动发布2014年计算机故障报告\n",
      "\n",
      "Text:   2022.12.22医护人员例行设备使用前检查时，发现设备报警070，联系设备科维修，工程师检查为主板故障，未对患者造成不良影响。\n"
     ]
    },
    {
     "name": "stderr",
     "output_type": "stream",
     "text": [
      "Your max_length is set to 60, but your input_length is only 58. Since this is a summarization task, where outputs shorter than the input are typically wanted, you might consider decreasing max_length manually, e.g. summarizer('...', max_length=29)\n"
     ]
    },
    {
     "name": "stdout",
     "output_type": "stream",
     "text": [
      "Result: 武汉医护人员例行设备使用前发现故障\n",
      "\n",
      "Text:   2022.12.26医护人员例行设备开机前晨检时，发现手控盒无法控制机架，立即联系医工处维修，工程师检查为手控盒使用频繁，元器件老化严重所致，未对患者造成不良影响。\n"
     ]
    },
    {
     "name": "stderr",
     "output_type": "stream",
     "text": [
      "Your max_length is set to 60, but your input_length is only 55. Since this is a summarization task, where outputs shorter than the input are typically wanted, you might consider decreasing max_length manually, e.g. summarizer('...', max_length=27)\n"
     ]
    },
    {
     "name": "stdout",
     "output_type": "stream",
     "text": [
      "Result: 手控盒使用频繁无法控制机架\n",
      "\n",
      "Text:   2022.12.31医护人员给患者行影像检查时，发现病床脚闸无法打开，延误患者检查，立即联系医工处维修，工程师检查为病床使用率高，脚闸老化，未对患者造成不良影响。\n"
     ]
    },
    {
     "name": "stderr",
     "output_type": "stream",
     "text": [
      "Your max_length is set to 60, but your input_length is only 50. Since this is a summarization task, where outputs shorter than the input are typically wanted, you might consider decreasing max_length manually, e.g. summarizer('...', max_length=25)\n"
     ]
    },
    {
     "name": "stdout",
     "output_type": "stream",
     "text": [
      "Result: 武汉医护人员检查病床脚闸无法打开\n",
      "\n",
      "Text:   2022.12.28医务人员例行设备使用前自检时，发现设备报错“FOIL和CARR”，立即联系医工处维修，工程师检查为W32号线故障，未对患者造成不良影响。\n"
     ]
    },
    {
     "name": "stderr",
     "output_type": "stream",
     "text": [
      "Your max_length is set to 60, but your input_length is only 47. Since this is a summarization task, where outputs shorter than the input are typically wanted, you might consider decreasing max_length manually, e.g. summarizer('...', max_length=23)\n"
     ]
    },
    {
     "name": "stdout",
     "output_type": "stream",
     "text": [
      "Result: 武汉W32号线故障未造成不良影响\n",
      "\n",
      "Text:   2022.12.26医护人员例行设备开机前自检时，发现设备报错TDLY，立即联系医工处维修，工程师检查为钥匙底座故障，未对患者造成不良影响。\n",
      "Result: 武汉医护人员例行设备开机前发现报错TDLY\n",
      "\n",
      "Text:   2023年1月5日，技师给患者行影像诊断时，发现使用曝光手闸无法曝光，但使用无线遥控器可遥控曝光，立即联系医工处维修，工程师检查为曝光手闸故障，该故障不影响使用，未对患者造成不良影响。\n"
     ]
    },
    {
     "name": "stderr",
     "output_type": "stream",
     "text": [
      "Your max_length is set to 60, but your input_length is only 48. Since this is a summarization task, where outputs shorter than the input are typically wanted, you might consider decreasing max_length manually, e.g. summarizer('...', max_length=24)\n"
     ]
    },
    {
     "name": "stdout",
     "output_type": "stream",
     "text": [
      "Result: 无线遥控器曝光手闸故障\n",
      "\n",
      "Text:   2022.12.27医务人员例行设备开机前自检时，发现设备报错“COL.MLC”，联系医工处维修，工程师检查为多叶光栅故障，未对患者造成不良影响。\n",
      "Result: 武汉医务人员例行设备报错“COLO.MLC”\n",
      "\n",
      "Text:   2022年12月16日8:30分护士遵医嘱为1床汤旭相进行静脉输液，留置针穿刺成功后进行透明敷料固定，去除敷料贴纸出现贴膜自动卷在一起现象无法使用，护士发现后立即更换透明敷料，未对患者造成不良影响。\n"
     ]
    },
    {
     "name": "stderr",
     "output_type": "stream",
     "text": [
      "Your max_length is set to 60, but your input_length is only 55. Since this is a summarization task, where outputs shorter than the input are typically wanted, you might consider decreasing max_length manually, e.g. summarizer('...', max_length=27)\n"
     ]
    },
    {
     "name": "stdout",
     "output_type": "stream",
     "text": [
      "Result: 济南:护士用透明敷料进行静脉输液\n",
      "\n",
      "Text:   2022.12.29 9:00遵医嘱为患进行PICC换药，在为患者使用预冲 排气时，发现预冲的针柄处破裂，立即为患者更换新的预冲式注射器，未对患者造成任何损害。\n",
      "Result: 北京市卫计委:为患进行PICC换药\n",
      "\n",
      "Text:   2022年12月16日8:30分护士遵医嘱为6床李仁家相进行静脉输液，留置针穿刺成功后进行透明敷料固定，去除敷料贴纸出现贴膜自动卷在一起现象无法使用，护士发现后立即更换透明敷料，未对患者造成不良影响。\n",
      "Result: 昆明一护士为6床患者进行静脉输液\n",
      "\n",
      "Text:   患儿于2022.12.13日在手术室行腺样体增生等离子射频手术，使用该产品，术者常规操作，前检查无异常，使用过程中刀头绝缘层破裂漏电，患者口内有（或没有）不明显烫伤，立即予以更换，完成手术治疗。增加了手术风险，待术后继续观察。\n",
      "Result: 武汉一医生使用离子射频手术刀头绝缘层破裂漏电\n",
      "\n",
      "Text:   患者于2022年12月16日在手术室行腔镜下子宫全切术，使用超声刀切割凝血。术者常规操作，术中使用时监视屏提示刀头损坏，无法使用，立即予以更换。相对增加了手术风险。\n"
     ]
    },
    {
     "name": "stderr",
     "output_type": "stream",
     "text": [
      "Your max_length is set to 60, but your input_length is only 59. Since this is a summarization task, where outputs shorter than the input are typically wanted, you might consider decreasing max_length manually, e.g. summarizer('...', max_length=29)\n"
     ]
    },
    {
     "name": "stdout",
     "output_type": "stream",
     "text": [
      "Result: 子宫全切术使用超声刀切割凝血\n",
      "\n",
      "Text:   患者于2022年12月21日在导管室行PCI手术，使用该产品，术者常规操作，术前检查康德莱微导管，发现钢丝拔出困难，损伤管壁，立即予以更换。未对患者造成不良影响。\n",
      "Result: 康德莱微导管被曝钢丝拔出困难\n",
      "\n"
     ]
    }
   ],
   "source": [
    "for text in events:\n",
    "    print('Text:   {}'.format(text))\n",
    "    if len(text) >= 30:\n",
    "        summary_text = summarizer(text, max_length=60, do_sample=False)\n",
    "        # summary_text = summarizer(text)\n",
    "        print('Result: {}\\n'.format(summary_text[0]['summary_text']))\n",
    "    else:\n",
    "        print('Result:{}\\n'.format(text))"
   ]
  },
  {
   "cell_type": "code",
   "execution_count": 1,
   "metadata": {},
   "outputs": [],
   "source": [
    "import pandas as pd\n",
    "\n",
    "path = './data/2023.xls'\n",
    "\n",
    "df = pd.read_excel(path, sheet_name='1月')\n",
    "col = list(df.columns)\n",
    "\n",
    "events = []\n",
    "for i in range(len(col)):\n",
    "    events.append(df['使用过程'][i])"
   ]
  },
  {
   "cell_type": "code",
   "execution_count": 2,
   "metadata": {},
   "outputs": [],
   "source": [
    "from textrank4zh import TextRank4Keyword, TextRank4Sentence\n",
    "import jieba\n",
    "import logging\n",
    "\n",
    "# 取消jieba 的日志输出\n",
    "jieba.setLogLevel(logging.INFO)\n",
    "\n",
    "\n",
    "def get_key_words(text, num=5):\n",
    "    \"\"\"提取关键词\"\"\"\n",
    "    tr4w = TextRank4Keyword()\n",
    "    tr4w.analyze(text, lower=True)\n",
    "    key_words = tr4w.get_keywords(num)\n",
    "    return [item.word for item in key_words]\n",
    "    \n",
    "# 命名 小行星 周先生 天文台 国际\n",
    "\n",
    "\n",
    "def get_summary(text, num=3):\n",
    "    \"\"\"提取摘要\"\"\"\n",
    "    tr4s = TextRank4Sentence()\n",
    "    tr4s.analyze(text=text, lower=True, source='all_filters')\n",
    "    return [item.sentence for item in tr4s.get_key_sentences(num)]"
   ]
  },
  {
   "cell_type": "code",
   "execution_count": 3,
   "metadata": {},
   "outputs": [
    {
     "ename": "ModuleNotFoundError",
     "evalue": "No module named 'scipy'",
     "output_type": "error",
     "traceback": [
      "\u001b[0;31m---------------------------------------------------------------------------\u001b[0m",
      "\u001b[0;31mModuleNotFoundError\u001b[0m                       Traceback (most recent call last)",
      "\u001b[1;32m/home/alba/nlp/test.ipynb Cell 30\u001b[0m line \u001b[0;36m2\n\u001b[1;32m      <a href='vscode-notebook-cell:/home/alba/nlp/test.ipynb#X40sZmlsZQ%3D%3D?line=0'>1</a>\u001b[0m \u001b[39mfor\u001b[39;00m sentence \u001b[39min\u001b[39;00m events:\n\u001b[0;32m----> <a href='vscode-notebook-cell:/home/alba/nlp/test.ipynb#X40sZmlsZQ%3D%3D?line=1'>2</a>\u001b[0m     keys \u001b[39m=\u001b[39m get_key_words(sentence)\n\u001b[1;32m      <a href='vscode-notebook-cell:/home/alba/nlp/test.ipynb#X40sZmlsZQ%3D%3D?line=2'>3</a>\u001b[0m     summary \u001b[39m=\u001b[39m get_summary(sentence)\n\u001b[1;32m      <a href='vscode-notebook-cell:/home/alba/nlp/test.ipynb#X40sZmlsZQ%3D%3D?line=3'>4</a>\u001b[0m     \u001b[39mprint\u001b[39m(\u001b[39m'\u001b[39m\u001b[39msentence:\u001b[39m\u001b[39m{}\u001b[39;00m\u001b[39m \u001b[39m\u001b[39m\\n\u001b[39;00m\u001b[39m key words:\u001b[39m\u001b[39m{}\u001b[39;00m\u001b[39m \u001b[39m\u001b[39m\\\u001b[39m\u001b[39m summary:\u001b[39m\u001b[39m{}\u001b[39;00m\u001b[39m'\u001b[39m\u001b[39m.\u001b[39mformat(sentence, keys, summary))\n",
      "\u001b[1;32m/home/alba/nlp/test.ipynb Cell 30\u001b[0m line \u001b[0;36m1\n\u001b[1;32m     <a href='vscode-notebook-cell:/home/alba/nlp/test.ipynb#X40sZmlsZQ%3D%3D?line=9'>10</a>\u001b[0m \u001b[39m\u001b[39m\u001b[39m\"\"\"提取关键词\"\"\"\u001b[39;00m\n\u001b[1;32m     <a href='vscode-notebook-cell:/home/alba/nlp/test.ipynb#X40sZmlsZQ%3D%3D?line=10'>11</a>\u001b[0m tr4w \u001b[39m=\u001b[39m TextRank4Keyword()\n\u001b[0;32m---> <a href='vscode-notebook-cell:/home/alba/nlp/test.ipynb#X40sZmlsZQ%3D%3D?line=11'>12</a>\u001b[0m tr4w\u001b[39m.\u001b[39;49manalyze(text, lower\u001b[39m=\u001b[39;49m\u001b[39mTrue\u001b[39;49;00m)\n\u001b[1;32m     <a href='vscode-notebook-cell:/home/alba/nlp/test.ipynb#X40sZmlsZQ%3D%3D?line=12'>13</a>\u001b[0m key_words \u001b[39m=\u001b[39m tr4w\u001b[39m.\u001b[39mget_keywords(num)\n\u001b[1;32m     <a href='vscode-notebook-cell:/home/alba/nlp/test.ipynb#X40sZmlsZQ%3D%3D?line=13'>14</a>\u001b[0m \u001b[39mreturn\u001b[39;00m [item\u001b[39m.\u001b[39mword \u001b[39mfor\u001b[39;00m item \u001b[39min\u001b[39;00m key_words]\n",
      "File \u001b[0;32m~/anaconda3/envs/nlp/lib/python3.11/site-packages/textrank4zh/TextRank4Keyword.py:93\u001b[0m, in \u001b[0;36mTextRank4Keyword.analyze\u001b[0;34m(self, text, window, lower, vertex_source, edge_source, pagerank_config)\u001b[0m\n\u001b[1;32m     90\u001b[0m \u001b[39melse\u001b[39;00m:\n\u001b[1;32m     91\u001b[0m     _edge_source   \u001b[39m=\u001b[39m result[\u001b[39m'\u001b[39m\u001b[39mwords_no_stop_words\u001b[39m\u001b[39m'\u001b[39m]\n\u001b[0;32m---> 93\u001b[0m \u001b[39mself\u001b[39m\u001b[39m.\u001b[39mkeywords \u001b[39m=\u001b[39m util\u001b[39m.\u001b[39;49msort_words(_vertex_source, _edge_source, window \u001b[39m=\u001b[39;49m window, pagerank_config \u001b[39m=\u001b[39;49m pagerank_config)\n",
      "File \u001b[0;32m~/anaconda3/envs/nlp/lib/python3.11/site-packages/textrank4zh/util.py:161\u001b[0m, in \u001b[0;36msort_words\u001b[0;34m(vertex_source, edge_source, window, pagerank_config)\u001b[0m\n\u001b[1;32m    158\u001b[0m debug(\u001b[39m'\u001b[39m\u001b[39mgraph:\u001b[39m\u001b[39m\\n\u001b[39;00m\u001b[39m'\u001b[39m, graph)\n\u001b[1;32m    160\u001b[0m nx_graph \u001b[39m=\u001b[39m nx\u001b[39m.\u001b[39mfrom_numpy_array(graph)\n\u001b[0;32m--> 161\u001b[0m scores \u001b[39m=\u001b[39m nx\u001b[39m.\u001b[39;49mpagerank(nx_graph, \u001b[39m*\u001b[39;49m\u001b[39m*\u001b[39;49mpagerank_config)          \u001b[39m# this is a dict\u001b[39;00m\n\u001b[1;32m    162\u001b[0m sorted_scores \u001b[39m=\u001b[39m \u001b[39msorted\u001b[39m(scores\u001b[39m.\u001b[39mitems(), key \u001b[39m=\u001b[39m \u001b[39mlambda\u001b[39;00m item: item[\u001b[39m1\u001b[39m], reverse\u001b[39m=\u001b[39m\u001b[39mTrue\u001b[39;00m)\n\u001b[1;32m    163\u001b[0m \u001b[39mfor\u001b[39;00m index, score \u001b[39min\u001b[39;00m sorted_scores:\n",
      "File \u001b[0;32m~/anaconda3/envs/nlp/lib/python3.11/site-packages/networkx/utils/backends.py:412\u001b[0m, in \u001b[0;36m_dispatch.__call__\u001b[0;34m(self, backend, *args, **kwargs)\u001b[0m\n\u001b[1;32m    409\u001b[0m \u001b[39mdef\u001b[39;00m \u001b[39m__call__\u001b[39m(\u001b[39mself\u001b[39m, \u001b[39m/\u001b[39m, \u001b[39m*\u001b[39margs, backend\u001b[39m=\u001b[39m\u001b[39mNone\u001b[39;00m, \u001b[39m*\u001b[39m\u001b[39m*\u001b[39mkwargs):\n\u001b[1;32m    410\u001b[0m     \u001b[39mif\u001b[39;00m \u001b[39mnot\u001b[39;00m backends:\n\u001b[1;32m    411\u001b[0m         \u001b[39m# Fast path if no backends are installed\u001b[39;00m\n\u001b[0;32m--> 412\u001b[0m         \u001b[39mreturn\u001b[39;00m \u001b[39mself\u001b[39;49m\u001b[39m.\u001b[39;49morig_func(\u001b[39m*\u001b[39;49margs, \u001b[39m*\u001b[39;49m\u001b[39m*\u001b[39;49mkwargs)\n\u001b[1;32m    414\u001b[0m     \u001b[39m# Use `backend_name` in this function instead of `backend`\u001b[39;00m\n\u001b[1;32m    415\u001b[0m     backend_name \u001b[39m=\u001b[39m backend\n",
      "File \u001b[0;32m~/anaconda3/envs/nlp/lib/python3.11/site-packages/networkx/algorithms/link_analysis/pagerank_alg.py:110\u001b[0m, in \u001b[0;36mpagerank\u001b[0;34m(G, alpha, personalization, max_iter, tol, nstart, weight, dangling)\u001b[0m\n\u001b[1;32m      9\u001b[0m \u001b[39m@nx\u001b[39m\u001b[39m.\u001b[39m_dispatch(edge_attrs\u001b[39m=\u001b[39m\u001b[39m\"\u001b[39m\u001b[39mweight\u001b[39m\u001b[39m\"\u001b[39m)\n\u001b[1;32m     10\u001b[0m \u001b[39mdef\u001b[39;00m \u001b[39mpagerank\u001b[39m(\n\u001b[1;32m     11\u001b[0m     G,\n\u001b[0;32m   (...)\u001b[0m\n\u001b[1;32m     18\u001b[0m     dangling\u001b[39m=\u001b[39m\u001b[39mNone\u001b[39;00m,\n\u001b[1;32m     19\u001b[0m ):\n\u001b[1;32m     20\u001b[0m \u001b[39m    \u001b[39m\u001b[39m\"\"\"Returns the PageRank of the nodes in the graph.\u001b[39;00m\n\u001b[1;32m     21\u001b[0m \n\u001b[1;32m     22\u001b[0m \u001b[39m    PageRank computes a ranking of the nodes in the graph G based on\u001b[39;00m\n\u001b[0;32m   (...)\u001b[0m\n\u001b[1;32m    108\u001b[0m \n\u001b[1;32m    109\u001b[0m \u001b[39m    \"\"\"\u001b[39;00m\n\u001b[0;32m--> 110\u001b[0m     \u001b[39mreturn\u001b[39;00m _pagerank_scipy(\n\u001b[1;32m    111\u001b[0m         G, alpha, personalization, max_iter, tol, nstart, weight, dangling\n\u001b[1;32m    112\u001b[0m     )\n",
      "File \u001b[0;32m~/anaconda3/envs/nlp/lib/python3.11/site-packages/networkx/algorithms/link_analysis/pagerank_alg.py:453\u001b[0m, in \u001b[0;36m_pagerank_scipy\u001b[0;34m(G, alpha, personalization, max_iter, tol, nstart, weight, dangling)\u001b[0m\n\u001b[1;32m    368\u001b[0m \u001b[39m\u001b[39m\u001b[39m\"\"\"Returns the PageRank of the nodes in the graph.\u001b[39;00m\n\u001b[1;32m    369\u001b[0m \n\u001b[1;32m    370\u001b[0m \u001b[39mPageRank computes a ranking of the nodes in the graph G based on\u001b[39;00m\n\u001b[0;32m   (...)\u001b[0m\n\u001b[1;32m    450\u001b[0m \u001b[39m   http://dbpubs.stanford.edu:8090/pub/showDoc.Fulltext?lang=en&doc=1999-66&format=pdf\u001b[39;00m\n\u001b[1;32m    451\u001b[0m \u001b[39m\"\"\"\u001b[39;00m\n\u001b[1;32m    452\u001b[0m \u001b[39mimport\u001b[39;00m \u001b[39mnumpy\u001b[39;00m \u001b[39mas\u001b[39;00m \u001b[39mnp\u001b[39;00m\n\u001b[0;32m--> 453\u001b[0m \u001b[39mimport\u001b[39;00m \u001b[39mscipy\u001b[39;00m \u001b[39mas\u001b[39;00m \u001b[39msp\u001b[39;00m\n\u001b[1;32m    455\u001b[0m N \u001b[39m=\u001b[39m \u001b[39mlen\u001b[39m(G)\n\u001b[1;32m    456\u001b[0m \u001b[39mif\u001b[39;00m N \u001b[39m==\u001b[39m \u001b[39m0\u001b[39m:\n",
      "\u001b[0;31mModuleNotFoundError\u001b[0m: No module named 'scipy'"
     ]
    }
   ],
   "source": [
    "for sentence in events:\n",
    "    keys = get_key_words(sentence)\n",
    "    summary = get_summary(sentence)\n",
    "    print('sentence:{} \\n key words:{} \\ summary:{}'.format(sentence, keys, summary))"
   ]
  },
  {
   "cell_type": "code",
   "execution_count": null,
   "metadata": {},
   "outputs": [],
   "source": []
  }
 ],
 "metadata": {
  "kernelspec": {
   "display_name": "nlp",
   "language": "python",
   "name": "python3"
  },
  "language_info": {
   "codemirror_mode": {
    "name": "ipython",
    "version": 3
   },
   "file_extension": ".py",
   "mimetype": "text/x-python",
   "name": "python",
   "nbconvert_exporter": "python",
   "pygments_lexer": "ipython3",
   "version": "3.11.5"
  }
 },
 "nbformat": 4,
 "nbformat_minor": 2
}
